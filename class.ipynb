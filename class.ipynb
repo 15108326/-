{
 "cells": [
  {
   "cell_type": "markdown",
   "metadata": {},
   "source": [
    "# 클래스 변수"
   ]
  },
  {
   "cell_type": "code",
   "execution_count": 6,
   "metadata": {},
   "outputs": [],
   "source": [
    "class Family:\n",
    "    lastname=\"김\""
   ]
  },
  {
   "cell_type": "code",
   "execution_count": 7,
   "metadata": {},
   "outputs": [],
   "source": [
    "c1=Family()\n",
    "c2=Family()"
   ]
  },
  {
   "cell_type": "code",
   "execution_count": 8,
   "metadata": {},
   "outputs": [
    {
     "name": "stdout",
     "output_type": "stream",
     "text": [
      "김\n",
      "김\n",
      "김\n"
     ]
    }
   ],
   "source": [
    "print(c1.lastname)\n",
    "print(c2.lastname)\n",
    "print(Family.lastname)"
   ]
  },
  {
   "cell_type": "code",
   "execution_count": 9,
   "metadata": {},
   "outputs": [
    {
     "name": "stdout",
     "output_type": "stream",
     "text": [
      "2774925477488\n",
      "2774925477488\n",
      "2774925477488\n"
     ]
    }
   ],
   "source": [
    "print(id(Family.lastname))\n",
    "print(id(c1.lastname))\n",
    "print(id(c2.lastname))"
   ]
  },
  {
   "cell_type": "markdown",
   "metadata": {},
   "source": [
    "클래스  변수를 이용하여 객체를 만들고 그 lastname의 결과값과 주소가 클래스변수와 같은 것을 확인할 수 있다.\n",
    "\n",
    "이 때 클래스 변수의 값을 Family.lastname을 통해 변경시켜보면"
   ]
  },
  {
   "cell_type": "code",
   "execution_count": 12,
   "metadata": {},
   "outputs": [
    {
     "name": "stdout",
     "output_type": "stream",
     "text": [
      "박\n",
      "박\n",
      "박\n",
      "2774925477968\n",
      "2774925477968\n",
      "2774925477968\n"
     ]
    }
   ],
   "source": [
    "Family.lastname=\"박\"\n",
    "print(c1.lastname)\n",
    "print(c2.lastname)\n",
    "print(Family.lastname)\n",
    "print(id(Family.lastname))\n",
    "print(id(c1.lastname))\n",
    "print(id(c2.lastname))"
   ]
  },
  {
   "cell_type": "markdown",
   "metadata": {},
   "source": [
    "클래스 변수는 물론이고 2개의 객체의 값도 변하는 것을 확인할 수 있고 주소또한 같은 값으로 변하는 것을 확인할 수 있다."
   ]
  },
  {
   "cell_type": "markdown",
   "metadata": {},
   "source": [
    "그러면 이번에는 클래스 변수값을 Family.lastname이 아닌 같은 주소의 c1.lastname을 통한 변경을 시도해 보겠다."
   ]
  },
  {
   "cell_type": "code",
   "execution_count": 15,
   "metadata": {},
   "outputs": [
    {
     "name": "stdout",
     "output_type": "stream",
     "text": [
      "이\n",
      "박\n",
      "박\n",
      "2774925477968\n",
      "2774925590736\n",
      "2774925477968\n"
     ]
    }
   ],
   "source": [
    "c1.lastname=\"이\"\n",
    "print(c1.lastname)\n",
    "print(c2.lastname)\n",
    "print(Family.lastname)\n",
    "print(id(Family.lastname))\n",
    "print(id(c1.lastname))\n",
    "print(id(c2.lastname))"
   ]
  },
  {
   "cell_type": "markdown",
   "metadata": {},
   "source": [
    "주소가 같으므로 3개 다 바뀔 것이라고 예상이 되기도 하지만 결과는 그렇지 않다는 것을 보여준다."
   ]
  },
  {
   "cell_type": "markdown",
   "metadata": {},
   "source": [
    "그 이유에 대해 생각을 해보면 클래스변수는 그 객체들과 같은 주소를 공유하므로 클래스 변수값을 변경할 때는 그 곳에 속한 즉 객체값들도 변경한다는 것을 의미한다.\n",
    "\n",
    "하지만 그중 c1.lastname만을 변경시키는 것은 클래스변수의 객체를 변경시키는것이 아닌 단순히 c1.lastname에 새로운 값을 정의시키는 것이고 따라서 더이상 클래스변수의 객체가 아니게된다.\n",
    "\n",
    "따라서 c1.lastname은 더이상 클래스변수의 값과 주소를 공유하지 않고 독립된 값과 주소를 가지는 것이다."
   ]
  },
  {
   "cell_type": "markdown",
   "metadata": {},
   "source": [
    "여기서 객체값을 변경해서 클래스 변수의 값을 변경하는 방법이 있는지에 대한 궁금증이 생길 수 있을 것이다."
   ]
  },
  {
   "cell_type": "markdown",
   "metadata": {},
   "source": [
    "그러나 객체는 클래스변수에 속해있는 값이고 속해있는 값을 변경한다고 해서 그것이 속해져있는 값이 변하지않을 것으로 예상되므로 객체값을 변경해서 클래스변수의 값을 변경할 수 없을 것으로 예상이 된다."
   ]
  }
 ],
 "metadata": {
  "kernelspec": {
   "display_name": "Python 3",
   "language": "python",
   "name": "python3"
  },
  "language_info": {
   "codemirror_mode": {
    "name": "ipython",
    "version": 3
   },
   "file_extension": ".py",
   "mimetype": "text/x-python",
   "name": "python",
   "nbconvert_exporter": "python",
   "pygments_lexer": "ipython3",
   "version": "3.7.3"
  }
 },
 "nbformat": 4,
 "nbformat_minor": 2
}

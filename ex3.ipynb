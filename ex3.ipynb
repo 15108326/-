{
  "nbformat": 4,
  "nbformat_minor": 0,
  "metadata": {
    "colab": {
      "name": "ex3",
      "provenance": [],
      "collapsed_sections": [],
      "include_colab_link": true
    },
    "kernelspec": {
      "name": "python3",
      "display_name": "Python 3"
    },
    "accelerator": "GPU"
  },
  "cells": [
    {
      "cell_type": "markdown",
      "metadata": {
        "id": "view-in-github",
        "colab_type": "text"
      },
      "source": [
        "<a href=\"https://colab.research.google.com/github/15108326/ANAE/blob/master/ex3.ipynb\" target=\"_parent\"><img src=\"https://colab.research.google.com/assets/colab-badge.svg\" alt=\"Open In Colab\"/></a>"
      ]
    },
    {
      "cell_type": "code",
      "metadata": {
        "id": "vKMqOYK51Np6",
        "colab_type": "code",
        "outputId": "a6e93e82-ac63-47d4-8ea5-d71aaa072ebb",
        "colab": {
          "base_uri": "https://localhost:8080/",
          "height": 52
        }
      },
      "source": [
        "import sys\n",
        "import os\n",
        "import requests\n",
        "import subprocess\n",
        "import shutil\n",
        "from logging import getLogger, StreamHandler, INFO\n",
        "\n",
        "\n",
        "logger = getLogger(__name__)\n",
        "logger.addHandler(StreamHandler())\n",
        "logger.setLevel(INFO)\n",
        "\n",
        "\n",
        "def install(\n",
        "        chunk_size=4096,\n",
        "        file_name=\"Miniconda3-latest-Linux-x86_64.sh\",\n",
        "        url_base=\"https://repo.continuum.io/miniconda/\",\n",
        "        conda_path=os.path.expanduser(os.path.join(\"~\", \"miniconda\")),\n",
        "        rdkit_version=None,\n",
        "        add_python_path=True,\n",
        "        force=False):\n",
        "    \"\"\"install rdkit from miniconda\n",
        "    ```\n",
        "    import rdkit_installer\n",
        "    rdkit_installer.install()\n",
        "    ```\n",
        "    \"\"\"\n",
        "\n",
        "    python_path = os.path.join(\n",
        "        conda_path,\n",
        "        \"lib\",\n",
        "        \"python{0}.{1}\".format(*sys.version_info),\n",
        "        \"site-packages\",\n",
        "    )\n",
        "\n",
        "    if add_python_path and python_path not in sys.path:\n",
        "        logger.info(\"add {} to PYTHONPATH\".format(python_path))\n",
        "        sys.path.append(python_path)\n",
        "\n",
        "    if os.path.isdir(os.path.join(python_path, \"rdkit\")):\n",
        "        logger.info(\"rdkit is already installed\")\n",
        "        if not force:\n",
        "            return\n",
        "\n",
        "        logger.info(\"force re-install\")\n",
        "\n",
        "    url = url_base + file_name\n",
        "    python_version = \"{0}.{1}.{2}\".format(*sys.version_info)\n",
        "\n",
        "    logger.info(\"python version: {}\".format(python_version))\n",
        "\n",
        "    if os.path.isdir(conda_path):\n",
        "        logger.warning(\"remove current miniconda\")\n",
        "        shutil.rmtree(conda_path)\n",
        "    elif os.path.isfile(conda_path):\n",
        "        logger.warning(\"remove {}\".format(conda_path))\n",
        "        os.remove(conda_path)\n",
        "\n",
        "    logger.info('fetching installer from {}'.format(url))\n",
        "    res = requests.get(url, stream=True)\n",
        "    res.raise_for_status()\n",
        "    with open(file_name, 'wb') as f:\n",
        "        for chunk in res.iter_content(chunk_size):\n",
        "            f.write(chunk)\n",
        "    logger.info('done')\n",
        "\n",
        "    logger.info('installing miniconda to {}'.format(conda_path))\n",
        "    subprocess.check_call([\"bash\", file_name, \"-b\", \"-p\", conda_path])\n",
        "    logger.info('done')\n",
        "\n",
        "    logger.info(\"installing rdkit\")\n",
        "    subprocess.check_call([\n",
        "        os.path.join(conda_path, \"bin\", \"conda\"),\n",
        "        \"install\",\n",
        "        \"--yes\",\n",
        "        \"-c\", \"rdkit\",\n",
        "        \"python=={}\".format(python_version),\n",
        "        \"rdkit\" if rdkit_version is None else \"rdkit=={}\".format(rdkit_version)])\n",
        "    logger.info(\"done\")\n",
        "\n",
        "    import rdkit\n",
        "    logger.info(\"rdkit-{} installation finished!\".format(rdkit.__version__))\n",
        "\n",
        "\n",
        "if __name__ == \"__main__\":\n",
        "    install()"
      ],
      "execution_count": 0,
      "outputs": [
        {
          "output_type": "stream",
          "text": [
            "add /root/miniconda/lib/python3.6/site-packages to PYTHONPATH\n",
            "rdkit is already installed\n"
          ],
          "name": "stderr"
        }
      ]
    },
    {
      "cell_type": "code",
      "metadata": {
        "id": "O9cDSNC9CFVL",
        "colab_type": "code",
        "colab": {}
      },
      "source": [
        "# General Imports\n",
        "import os\n",
        "import pandas as pd\n",
        "import numpy as np\n",
        "from rdkit import Chem\n",
        "from rdkit.Chem import Draw, Descriptors\n",
        "from matplotlib import pyplot as plt\n",
        "%matplotlib inline"
      ],
      "execution_count": 0,
      "outputs": []
    },
    {
      "cell_type": "code",
      "metadata": {
        "id": "oolT8t80d19s",
        "colab_type": "code",
        "outputId": "f19f52b8-3342-496a-de55-2d22cb4dd101",
        "colab": {
          "base_uri": "https://localhost:8080/",
          "height": 125
        }
      },
      "source": [
        "try:\n",
        "\n",
        "    %tensorflow_version 1.x  # %tensorflow_version only exists in Colab\n",
        "\n",
        "except Exception:\n",
        "\n",
        "    pass"
      ],
      "execution_count": 0,
      "outputs": [
        {
          "output_type": "stream",
          "text": [
            "`%tensorflow_version` only switches the major version: `1.x` or `2.x`.\n",
            "You set: `1.x  # %tensorflow_version only exists in Colab`. This will be interpreted as: `1.x`.\n",
            "\n",
            "\n",
            "TensorFlow 1.x selected.\n"
          ],
          "name": "stdout"
        }
      ]
    },
    {
      "cell_type": "code",
      "metadata": {
        "id": "SrajNPFAd5Q6",
        "colab_type": "code",
        "outputId": "f35e961f-e134-4194-9d1d-241a064424cf",
        "colab": {
          "base_uri": "https://localhost:8080/",
          "height": 52
        }
      },
      "source": [
        "smifile = \"GDBMedChem.smi\"\n",
        "data = pd.read_csv(smifile, delimiter = \" \", names = [\"smiles\",\"No\"])\n",
        "data=data[0:60000]\n",
        "from sklearn.model_selection import train_test_split\n",
        "smiles_train, smiles_test = train_test_split(data[\"smiles\"], random_state=42)\n",
        "print(smiles_train.shape)\n",
        "print(smiles_test.shape)"
      ],
      "execution_count": 0,
      "outputs": [
        {
          "output_type": "stream",
          "text": [
            "(45000,)\n",
            "(15000,)\n"
          ],
          "name": "stdout"
        }
      ]
    },
    {
      "cell_type": "code",
      "metadata": {
        "id": "l1-tqFo1yYTT",
        "colab_type": "code",
        "outputId": "060c7918-cf5b-4a49-ea06-d35e696cb35a",
        "colab": {
          "base_uri": "https://localhost:8080/",
          "height": 228
        }
      },
      "source": [
        "smiles_test"
      ],
      "execution_count": 0,
      "outputs": [
        {
          "output_type": "execute_result",
          "data": {
            "text/plain": [
              "12628         Cc1ccc2Cc3c(csc3C(C)(C)C)-c2c1\n",
              "37730                CC(O)C1(C)CC(C)C[NH2+]1\n",
              "39991          CC12CCC(CO)C1=CC(C[NH3+])C2CO\n",
              "8525     CC1(C)CC(C(=O)C1)c1ccc2C[NH2+]Cc2c1\n",
              "8279                 CC(O)CN1CC(=O)C(=C1)C#N\n",
              "                        ...                 \n",
              "15381                 CC(O)C1(OCC1[NH3+])C#C\n",
              "928            CC(OCC(C)C([O-])=O)C(C)C(N)=O\n",
              "27497        Cc1ccc(c(=N)o1)C1(C)CC(CO)CC1=O\n",
              "50554          CC1=CCCC[NH+]2CCC(C2)=CC1(C)C\n",
              "3673         Cc1c(COCC#C)ncc([NH+]=C(N)N)c1O\n",
              "Name: smiles, Length: 15000, dtype: object"
            ]
          },
          "metadata": {
            "tags": []
          },
          "execution_count": 5
        }
      ]
    },
    {
      "cell_type": "code",
      "metadata": {
        "id": "-p2WAUeIi-JZ",
        "colab_type": "code",
        "outputId": "c2d397b9-21f6-4c0f-8d39-e5394e28cf9f",
        "colab": {
          "base_uri": "https://localhost:8080/",
          "height": 72
        }
      },
      "source": [
        "charset = set(\"\".join(list(data.smiles))+\"!E\")\n",
        "char_to_int = dict((c,i) for i,c in enumerate(charset))\n",
        "int_to_char = dict((i,c) for i,c in enumerate(charset))\n",
        "embed = max([len(smile) for smile in data.smiles]) + 5\n",
        "print(str( charset))\n",
        "print(len(charset), embed)"
      ],
      "execution_count": 0,
      "outputs": [
        {
          "output_type": "stream",
          "text": [
            "{'[', '!', 'O', ']', '(', 'c', 's', 'o', 'N', 'C', '+', ')', '-', 'E', '2', 'S', '1', 'F', 'n', '#', '3', '=', 'l', 'H'}\n",
            "24 58\n"
          ],
          "name": "stdout"
        }
      ]
    },
    {
      "cell_type": "code",
      "metadata": {
        "id": "lqcD5vh-jBGZ",
        "colab_type": "code",
        "outputId": "b315faca-011a-4ea4-d124-6a2af014af4b",
        "colab": {
          "base_uri": "https://localhost:8080/",
          "height": 310
        }
      },
      "source": [
        "def vectorize(smiles):\n",
        "        one_hot =  np.zeros((smiles.shape[0], embed , len(charset)),dtype=np.int8)\n",
        "        for i,smile in enumerate(smiles):\n",
        "            #encode the startchar\n",
        "            one_hot[i,0,char_to_int[\"!\"]] = 1\n",
        "            #encode the rest of the chars\n",
        "            for j,c in enumerate(smile):\n",
        "                one_hot[i,j+1,char_to_int[c]] = 1\n",
        "            #Encode endchar\n",
        "            one_hot[i,len(smile)+1:,char_to_int[\"E\"]] = 1\n",
        "        #Return two, one for input and the other for output\n",
        "        return one_hot[:,0:-1,:], one_hot[:,1:,:]\n",
        "X_train, Y_train = vectorize(smiles_train.values)\n",
        "X_test,Y_test = vectorize(smiles_test.values)\n",
        "print(smiles_train.iloc[0])\n",
        "plt.matshow(X_train[0].T)\n",
        "#print X_train.shape"
      ],
      "execution_count": 0,
      "outputs": [
        {
          "output_type": "stream",
          "text": [
            "CC1=C2CC(=CC=CC=CC=C2)C(=O)C1\n"
          ],
          "name": "stdout"
        },
        {
          "output_type": "execute_result",
          "data": {
            "text/plain": [
              "<matplotlib.image.AxesImage at 0x7f6dac8df630>"
            ]
          },
          "metadata": {
            "tags": []
          },
          "execution_count": 7
        },
        {
          "output_type": "display_data",
          "data": {
            "image/png": "[encoded data removed]",
            "text/plain": [
              "<Figure size 684x288 with 1 Axes>"
            ]
          },
          "metadata": {
            "tags": []
          }
        }
      ]
    },
    {
      "cell_type": "code",
      "metadata": {
        "id": "JyrbEqyFjCkW",
        "colab_type": "code",
        "outputId": "739d1786-ef16-4e0d-c876-c406d023e636",
        "colab": {
          "base_uri": "https://localhost:8080/",
          "height": 34
        }
      },
      "source": [
        "\"\".join([int_to_char[idx] for idx in np.argmax(X_train[0,:,:], axis=1)])"
      ],
      "execution_count": 0,
      "outputs": [
        {
          "output_type": "execute_result",
          "data": {
            "text/plain": [
              "'!CC1=C2CC(=CC=CC=CC=C2)C(=O)C1EEEEEEEEEEEEEEEEEEEEEEEEEEE'"
            ]
          },
          "metadata": {
            "tags": []
          },
          "execution_count": 8
        }
      ]
    },
    {
      "cell_type": "code",
      "metadata": {
        "id": "v6ZTxDvyjT8Q",
        "colab_type": "code",
        "outputId": "b75df209-9a0e-45ff-bf68-32a4e8f1df52",
        "colab": {
          "base_uri": "https://localhost:8080/",
          "height": 34
        }
      },
      "source": [
        "#Import Keras objects\n",
        "from keras.models import Model\n",
        "from keras.layers import Input\n",
        "from keras.layers import LSTM\n",
        "from keras.layers import Dense\n",
        "from keras.layers import Concatenate\n",
        "from keras import regularizers\n",
        "input_shape = X_train.shape[1:]\n",
        "output_dim = Y_train.shape[-1]\n",
        "latent_dim = 64\n",
        "lstm_dim = 64"
      ],
      "execution_count": 0,
      "outputs": [
        {
          "output_type": "stream",
          "text": [
            "Using TensorFlow backend.\n"
          ],
          "name": "stderr"
        }
      ]
    },
    {
      "cell_type": "code",
      "metadata": {
        "id": "MguHU6zRjWCH",
        "colab_type": "code",
        "outputId": "c9f87d17-a04c-4c80-d093-3ec3c68506f5",
        "colab": {
          "base_uri": "https://localhost:8080/",
          "height": 142
        }
      },
      "source": [
        "unroll = False\n",
        "encoder_inputs = Input(shape=input_shape)\n",
        "encoder = LSTM(lstm_dim, return_state=True,\n",
        "                unroll=unroll)\n",
        "encoder_outputs, state_h, state_c = encoder(encoder_inputs)\n",
        "states = Concatenate(axis=-1)([state_h, state_c])\n",
        "neck = Dense(latent_dim, activation=\"relu\")\n",
        "neck_outputs = neck(states)"
      ],
      "execution_count": 0,
      "outputs": [
        {
          "output_type": "stream",
          "text": [
            "WARNING:tensorflow:From /usr/local/lib/python3.6/dist-packages/keras/backend/tensorflow_backend.py:66: The name tf.get_default_graph is deprecated. Please use tf.compat.v1.get_default_graph instead.\n",
            "\n",
            "WARNING:tensorflow:From /usr/local/lib/python3.6/dist-packages/keras/backend/tensorflow_backend.py:541: The name tf.placeholder is deprecated. Please use tf.compat.v1.placeholder instead.\n",
            "\n",
            "WARNING:tensorflow:From /usr/local/lib/python3.6/dist-packages/keras/backend/tensorflow_backend.py:4432: The name tf.random_uniform is deprecated. Please use tf.random.uniform instead.\n",
            "\n"
          ],
          "name": "stdout"
        }
      ]
    },
    {
      "cell_type": "code",
      "metadata": {
        "id": "36Ebx-rkjYOP",
        "colab_type": "code",
        "outputId": "c3db9659-c146-42b3-a920-7c84132d8575",
        "colab": {
          "base_uri": "https://localhost:8080/",
          "height": 565
        }
      },
      "source": [
        "decode_h = Dense(lstm_dim, activation=\"relu\")\n",
        "decode_c = Dense(lstm_dim, activation=\"relu\")\n",
        "state_h_decoded =  decode_h(neck_outputs)\n",
        "state_c_decoded =  decode_c(neck_outputs)\n",
        "encoder_states = [state_h_decoded, state_c_decoded]\n",
        "decoder_inputs = Input(shape=input_shape)\n",
        "decoder_lstm = LSTM(lstm_dim,\n",
        "                    return_sequences=True,\n",
        "                    unroll=unroll\n",
        "                   )\n",
        "decoder_outputs = decoder_lstm(decoder_inputs, initial_state=encoder_states)\n",
        "decoder_dense = Dense(output_dim, activation='softmax')\n",
        "decoder_outputs = decoder_dense(decoder_outputs)\n",
        "#Define the model, that inputs the training vector for two places, and predicts one character ahead of the input\n",
        "model = Model([encoder_inputs, decoder_inputs], decoder_outputs)\n",
        "print(model.summary())"
      ],
      "execution_count": 0,
      "outputs": [
        {
          "output_type": "stream",
          "text": [
            "Model: \"model_1\"\n",
            "__________________________________________________________________________________________________\n",
            "Layer (type)                    Output Shape         Param #     Connected to                     \n",
            "==================================================================================================\n",
            "input_1 (InputLayer)            (None, 57, 24)       0                                            \n",
            "__________________________________________________________________________________________________\n",
            "lstm_1 (LSTM)                   [(None, 64), (None,  22784       input_1[0][0]                    \n",
            "__________________________________________________________________________________________________\n",
            "concatenate_1 (Concatenate)     (None, 128)          0           lstm_1[0][1]                     \n",
            "                                                                 lstm_1[0][2]                     \n",
            "__________________________________________________________________________________________________\n",
            "dense_1 (Dense)                 (None, 64)           8256        concatenate_1[0][0]              \n",
            "__________________________________________________________________________________________________\n",
            "input_2 (InputLayer)            (None, 57, 24)       0                                            \n",
            "__________________________________________________________________________________________________\n",
            "dense_2 (Dense)                 (None, 64)           4160        dense_1[0][0]                    \n",
            "__________________________________________________________________________________________________\n",
            "dense_3 (Dense)                 (None, 64)           4160        dense_1[0][0]                    \n",
            "__________________________________________________________________________________________________\n",
            "lstm_2 (LSTM)                   (None, 57, 64)       22784       input_2[0][0]                    \n",
            "                                                                 dense_2[0][0]                    \n",
            "                                                                 dense_3[0][0]                    \n",
            "__________________________________________________________________________________________________\n",
            "dense_4 (Dense)                 (None, 57, 24)       1560        lstm_2[0][0]                     \n",
            "==================================================================================================\n",
            "Total params: 63,704\n",
            "Trainable params: 63,704\n",
            "Non-trainable params: 0\n",
            "__________________________________________________________________________________________________\n",
            "None\n"
          ],
          "name": "stdout"
        }
      ]
    },
    {
      "cell_type": "code",
      "metadata": {
        "id": "cEurv3c5kSep",
        "colab_type": "code",
        "outputId": "c0af0fc4-b8bd-471d-a4bc-956bf75f00b6",
        "colab": {
          "base_uri": "https://localhost:8080/",
          "height": 72
        }
      },
      "source": [
        "from keras.callbacks import History, ReduceLROnPlateau\n",
        "h = History()\n",
        "rlr = ReduceLROnPlateau(monitor='val_loss', factor=0.5,patience=10, min_lr=0.000001, verbose=1, epsilon=1e-5)\n"
      ],
      "execution_count": 0,
      "outputs": [
        {
          "output_type": "stream",
          "text": [
            "/usr/local/lib/python3.6/dist-packages/keras/callbacks.py:1335: UserWarning: `epsilon` argument is deprecated and will be removed, use `min_delta` instead.\n",
            "  warnings.warn('`epsilon` argument is deprecated and '\n"
          ],
          "name": "stderr"
        }
      ]
    },
    {
      "cell_type": "code",
      "metadata": {
        "id": "Ts-w_ppTkUV-",
        "colab_type": "code",
        "outputId": "c4633922-5a02-4a71-8429-985791c760f9",
        "colab": {
          "base_uri": "https://localhost:8080/",
          "height": 107
        }
      },
      "source": [
        "from keras.optimizers import RMSprop, Adam\n",
        "opt=Adam(lr=0.005) #Default 0.001\n",
        "model.compile(optimizer=opt, loss='categorical_crossentropy')"
      ],
      "execution_count": 0,
      "outputs": [
        {
          "output_type": "stream",
          "text": [
            "WARNING:tensorflow:From /usr/local/lib/python3.6/dist-packages/keras/optimizers.py:793: The name tf.train.Optimizer is deprecated. Please use tf.compat.v1.train.Optimizer instead.\n",
            "\n",
            "WARNING:tensorflow:From /usr/local/lib/python3.6/dist-packages/keras/backend/tensorflow_backend.py:3576: The name tf.log is deprecated. Please use tf.math.log instead.\n",
            "\n"
          ],
          "name": "stdout"
        }
      ]
    },
    {
      "cell_type": "code",
      "metadata": {
        "id": "NS6l_JwMkVZr",
        "colab_type": "code",
        "outputId": "17deac8b-e0e9-43f1-dedd-efbced1e5768",
        "colab": {
          "base_uri": "https://localhost:8080/",
          "height": 758
        }
      },
      "source": [
        "model.fit([X_train,X_train],Y_train,\n",
        "                    epochs=10,\n",
        "                    batch_size=256,\n",
        "                    shuffle=True,\n",
        "                    callbacks=[h, rlr],\n",
        "                    validation_data=[[X_test,X_test],Y_test ])\n"
      ],
      "execution_count": 0,
      "outputs": [
        {
          "output_type": "stream",
          "text": [
            "WARNING:tensorflow:From /usr/local/lib/python3.6/dist-packages/tensorflow_core/python/ops/math_grad.py:1424: where (from tensorflow.python.ops.array_ops) is deprecated and will be removed in a future version.\n",
            "Instructions for updating:\n",
            "Use tf.where in 2.0, which has the same broadcast rule as np.where\n",
            "WARNING:tensorflow:From /usr/local/lib/python3.6/dist-packages/keras/backend/tensorflow_backend.py:1033: The name tf.assign_add is deprecated. Please use tf.compat.v1.assign_add instead.\n",
            "\n",
            "WARNING:tensorflow:From /usr/local/lib/python3.6/dist-packages/keras/backend/tensorflow_backend.py:1020: The name tf.assign is deprecated. Please use tf.compat.v1.assign instead.\n",
            "\n",
            "WARNING:tensorflow:From /usr/local/lib/python3.6/dist-packages/keras/backend/tensorflow_backend.py:3005: The name tf.Session is deprecated. Please use tf.compat.v1.Session instead.\n",
            "\n",
            "Train on 45000 samples, validate on 15000 samples\n",
            "Epoch 1/10\n",
            "WARNING:tensorflow:From /usr/local/lib/python3.6/dist-packages/keras/backend/tensorflow_backend.py:190: The name tf.get_default_session is deprecated. Please use tf.compat.v1.get_default_session instead.\n",
            "\n",
            "WARNING:tensorflow:From /usr/local/lib/python3.6/dist-packages/keras/backend/tensorflow_backend.py:197: The name tf.ConfigProto is deprecated. Please use tf.compat.v1.ConfigProto instead.\n",
            "\n",
            "WARNING:tensorflow:From /usr/local/lib/python3.6/dist-packages/keras/backend/tensorflow_backend.py:207: The name tf.global_variables is deprecated. Please use tf.compat.v1.global_variables instead.\n",
            "\n",
            "WARNING:tensorflow:From /usr/local/lib/python3.6/dist-packages/keras/backend/tensorflow_backend.py:216: The name tf.is_variable_initialized is deprecated. Please use tf.compat.v1.is_variable_initialized instead.\n",
            "\n",
            "WARNING:tensorflow:From /usr/local/lib/python3.6/dist-packages/keras/backend/tensorflow_backend.py:223: The name tf.variables_initializer is deprecated. Please use tf.compat.v1.variables_initializer instead.\n",
            "\n",
            "45000/45000 [==============================] - 47s 1ms/step - loss: 0.9463 - val_loss: 0.6109\n",
            "Epoch 2/10\n",
            "45000/45000 [==============================] - 46s 1ms/step - loss: 0.5548 - val_loss: 0.5109\n",
            "Epoch 3/10\n",
            "45000/45000 [==============================] - 45s 1ms/step - loss: 0.4931 - val_loss: 0.4869\n",
            "Epoch 4/10\n",
            "45000/45000 [==============================] - 45s 1ms/step - loss: 0.4627 - val_loss: 0.4488\n",
            "Epoch 5/10\n",
            "45000/45000 [==============================] - 45s 996us/step - loss: 0.4452 - val_loss: 0.4544\n",
            "Epoch 6/10\n",
            "45000/45000 [==============================] - 45s 1ms/step - loss: 0.4294 - val_loss: 0.4129\n",
            "Epoch 7/10\n",
            "45000/45000 [==============================] - 45s 996us/step - loss: 0.4027 - val_loss: 0.3877\n",
            "Epoch 8/10\n",
            "45000/45000 [==============================] - 45s 1000us/step - loss: 0.3869 - val_loss: 0.3737\n",
            "Epoch 9/10\n",
            "45000/45000 [==============================] - 46s 1ms/step - loss: 0.3706 - val_loss: 0.3725\n",
            "Epoch 10/10\n",
            "45000/45000 [==============================] - 45s 1ms/step - loss: 0.3578 - val_loss: 0.3480\n"
          ],
          "name": "stdout"
        },
        {
          "output_type": "execute_result",
          "data": {
            "text/plain": [
              "<keras.callbacks.History at 0x7f6d70b76f28>"
            ]
          },
          "metadata": {
            "tags": []
          },
          "execution_count": 14
        }
      ]
    },
    {
      "cell_type": "code",
      "metadata": {
        "id": "D6_9mRnzwGTK",
        "colab_type": "code",
        "outputId": "68646af8-41eb-45a0-e0c2-35d03c6c2d75",
        "colab": {
          "base_uri": "https://localhost:8080/",
          "height": 282
        }
      },
      "source": [
        "plt.plot(h.history[\"loss\"], label=\"Loss\")\n",
        "plt.plot(h.history[\"val_loss\"], label=\"Val_Loss\")\n",
        "plt.yscale(\"log\")\n",
        "plt.legend()"
      ],
      "execution_count": 0,
      "outputs": [
        {
          "output_type": "execute_result",
          "data": {
            "text/plain": [
              "<matplotlib.legend.Legend at 0x7f6d70a581d0>"
            ]
          },
          "metadata": {
            "tags": []
          },
          "execution_count": 15
        },
        {
          "output_type": "display_data",
          "data": {
            "image/png": "[encoded data removed]",
            "text/plain": [
              "<Figure size 432x288 with 1 Axes>"
            ]
          },
          "metadata": {
            "tags": []
          }
        }
      ]
    },
    {
      "cell_type": "code",
      "metadata": {
        "id": "jJ-EdpoEwI6g",
        "colab_type": "code",
        "outputId": "44a4b5e4-97fa-4e06-83af-b98ad6d791f2",
        "colab": {
          "base_uri": "https://localhost:8080/",
          "height": 1000
        }
      },
      "source": [
        "for i in range(100):\n",
        "    v = model.predict([X_test[i:i+1], X_test[i:i+1]]) #Can't be done as output not necessarely 1\n",
        "    idxs = np.argmax(v, axis=2)\n",
        "    pred=  \"\".join([int_to_char[h] for h in idxs[0]])[:-1]\n",
        "    idxs2 = np.argmax(X_test[i:i+1], axis=2)\n",
        "    true =  \"\".join([int_to_char[k] for k in idxs2[0]])[1:]\n",
        "    if true != pred:\n",
        "        print(true, pred)"
      ],
      "execution_count": 0,
      "outputs": [
        {
          "output_type": "stream",
          "text": [
            "Cc1ccc2Cc3c(csc3C(C)(C)C)-c2c1EEEEEEEEEEEEEEEEEEEEEEEEEE Cc1ccc2CC3ccCcc2CCC)(C)CCcc1c1EEEEEEEEEEEEEEEEEEEEEEEEEE\n",
            "CC(O)C1(C)CC(C)C[NH2+]1EEEEEEEEEEEEEEEEEEEEEEEEEEEEEEEEE CC(O)C1CC)CCCC)CCNH2+]1EEEEEEEEEEEEEEEEEEEEEEEEEEEEEEEEE\n",
            "CC12CCC(CO)C1=CC(C[NH3+])C2COEEEEEEEEEEEEEEEEEEEEEEEEEEE CC1CCCCCCC)CCCCC(C)NH3+])CCCOEEEEEEEEEEEEEEEEEEEEEEEEEEE\n",
            "CC1(C)CC(C(=O)C1)c1ccc2C[NH2+]Cc2c1EEEEEEEEEEEEEEEEEEEEE CC1(CCCCCCCCO)CC)C1ccc(CCNH2+]CC2c1EEEEEEEEEEEEEEEEEEEEE\n",
            "CC(O)CN1CC(=O)C(=C1)C#NEEEEEEEEEEEEEEEEEEEEEEEEEEEEEEEEE CC(O)C11CC(=O)CCCO))C#NEEEEEEEEEEEEEEEEEEEEEEEEEEEEEEEEE\n",
            "Cc1nc2c(CC(CC#CCC=C2C)=NO)s1EEEEEEEEEEEEEEEEEEEEEEEEEEEE Cc1cc2C(CCCC)2C)C2C))CcC))n1EEEEEEEEEEEEEEEEEEEEEEEEEEEE\n",
            "CC1C2CCC1C(C)=CCCC=CCC2[NH3+]EEEEEEEEEEEEEEEEEEEEEEEEEEE CC1=2CCCCCCCCCCCC((CCC1CNH3+]EEEEEEEEEEEEEEEEEEEEEEEEEEE\n",
            "CC(O)(CCc1ccno1)c1ccon1EEEEEEEEEEEEEEEEEEEEEEEEEEEEEEEEE CC(O)CCC#1cccc1)C1Ccn11EEEEEEEEEEEEEEEEEEEEEEEEEEEEEEEEE\n",
            "CC1(CO)CC(=O)CC[NH2+]1EEEEEEEEEEEEEEEEEEEEEEEEEEEEEEEEEE CC1(C))CC(CO)CCCNH2+]1EEEEEEEEEEEEEEEEEEEEEEEEEEEEEEEEEE\n",
            "Cc1cc(O)c(C([O-])=O)c(N)c1COEEEEEEEEEEEEEEEEEEEEEEEEEEEE Cc1c((C)c(C)CN-])=O)c1C)c1CEEEEEEEEEEEEEEEEEEEEEEEEEEEEE\n",
            "CC1(C)CC(CC=CC=C1C1CC1)=NOEEEEEEEEEEEEEEEEEEEEEEEEEEEEEE CC1(CCCCCCC2CC1C1)C)C#)CNOEEEEEEEEEEEEEEEEEEEEEEEEEEEEEE\n",
            "CC1C([NH2+]CC11CCC=CC1[NH3+])C#CEEEEEEEEEEEEEEEEEEEEEEEE CC1C(CNH3+]CC1CCC11C11)NH3+])C#CEEEEEEEEEEEEEEEEEEEEEEEE\n",
            "CC1=CC2CC1C(C)(C(CC2)=NO)C(C)(C)CEEEEEEEEEEEEEEEEEEEEEEE CC1=CC2CC(C(CCCC)C)#)CCO)C(C)(C)CEEEEEEEEEEEEEEEEEEEEEEE\n",
            "CC1(C([NH3+])C#C)C(CC([NH3+])CO)OC1=OEEEEEEEEEEEEEEEEEEE CC1([[[NH3+])CCC)C(C)([NH3+])C1)CCC=OEEEEEEEEEEEEEEEEEEE\n",
            "CC(O)c1cc(O)nc2cc(C)ccc12EEEEEEEEEEEEEEEEEEEEEEEEEEEEEEE CC(O)C1cc(C)cc(CccC)cc112EEEEEEEEEEEEEEEEEEEEEEEEEEEEEEE\n",
            "Cc1[nH]c2C[NH2+]C(CO)CCCCc1c2OEEEEEEEEEEEEEEEEEEEEEEEEEE Cc1cnH]cccCNH2+]CCC))CCCCc1c1oEEEEEEEEEEEEEEEEEEEEEEEEEE\n",
            "CC(O)C(C)[NH+](C)CC(C)(C)[NH3+]EEEEEEEEEEEEEEEEEEEEEEEEE CC(O)C([[(NH+](C)CC(C)(C)CNH3+]EEEEEEEEEEEEEEEEEEEEEEEEE\n",
            "CC1(O)CC(CC2CC[NH2+]2)C1OEEEEEEEEEEEEEEEEEEEEEEEEEEEEEEE CC1(C)CCCCC2CC2NH2+]C)C1OEEEEEEEEEEEEEEEEEEEEEEEEEEEEEEE\n",
            "CC1=CCCCC(C)(O)C1C#CEEEEEEEEEEEEEEEEEEEEEEEEEEEEEEEEEEEE CC1=CCC(((C)(C)CCC#CEEEEEEEEEEEEEEEEEEEEEEEEEEEEEEEEEEEE\n",
            "Cc1cc(ncn1)C([NH3+])C1CCCCCC1OEEEEEEEEEEEEEEEEEEEEEEEEEE Cc1ccccc11)C1CNH3+])C1CCCCC11EEEEEEEEEEEEEEEEEEEEEEEEEEE\n",
            "Cc1ccsc1C1(CCC1)C#CEEEEEEEEEEEEEEEEEEEEEEEEEEEEEEEEEEEEE Cc1cccc1C1CC)OC)C#CEEEEEEEEEEEEEEEEEEEEEEEEEEEEEEEEEEEEE\n",
            "CC1=CC=C(CC(O)C#C)C[NH2+]CC=C1EEEEEEEEEEEEEEEEEEEEEEEEEE CC1=CC2CCCCCC)CCC)C2NH2+]CCCC1EEEEEEEEEEEEEEEEEEEEEEEEEE\n",
            "CC1C2CC3[NH+](CC=C3C)CC=C2C1C#CEEEEEEEEEEEEEEEEEEEEEEEEE CC1C2CC(CNH2](CCCCCCCC22CCC1C#CEEEEEEEEEEEEEEEEEEEEEEEEE\n",
            "CC1C(OCC#N)C=CC11CC2OCC=C12EEEEEEEEEEEEEEEEEEEEEEEEEEEEE CC1C(C)CCC)C2CC2CCCCCCCCC12EEEEEEEEEEEEEEEEEEEEEEEEEEEEE\n",
            "CC1(CC2CCC[NH2+]2)CC1EEEEEEEEEEEEEEEEEEEEEEEEEEEEEEEEEEE CC1(CCCCCC2NH2+]C)C11EEEEEEEEEEEEEEEEEEEEEEEEEEEEEEEEEEE\n",
            "CC12CCC1CCC2=C1CC(C[NH3+])C=C1EEEEEEEEEEEEEEEEEEEEEEEEEE CC1=CCCCCCCCCCCCC(C)NH3+])C=C1EEEEEEEEEEEEEEEEEEEEEEEEEE\n",
            "Cc1cc(CC#N)cc(=O)o1EEEEEEEEEEEEEEEEEEEEEEEEEEEEEEEEEEEEE Cc1cc(C)CC)cccCO)n1EEEEEEEEEEEEEEEEEEEEEEEEEEEEEEEEEEEEE\n",
            "CC1=C2C(CO)OC2C([NH3+])CC(C)(C)CC1EEEEEEEEEEEEEEEEEEEEEE CC1=CCC(CC)CCCC(CNH3+])C((C)(C)C11EEEEEEEEEEEEEEEEEEEEEE\n",
            "CC1(C)C=C2CC(C=CCC=CC2)C1[NH3+]EEEEEEEEEEEEEEEEEEEEEEEEE CC1(CCCCCCCCCCCCCC2C22)C1CNH3+]EEEEEEEEEEEEEEEEEEEEEEEEE\n",
            "CC1C([NH3+])C1C(O)(C[NH3+])C#NEEEEEEEEEEEEEEEEEEEEEEEEEE CC1C([NH3+])CCCCC)CCONH3+])C#NEEEEEEEEEEEEEEEEEEEEEEEEEE\n",
            "CC1C(C)=CCC2CC12C(C)=OEEEEEEEEEEEEEEEEEEEEEEEEEEEEEEEEEE CC1C(CCCCCC2CCCCCC=)=OEEEEEEEEEEEEEEEEEEEEEEEEEEEEEEEEEE\n",
            "CC1(CC1)C1=CCCCC(=CC1)C#CEEEEEEEEEEEEEEEEEEEEEEEEEEEEEEE CC1(CCC)C1CCCCCCCCO)1)C#CEEEEEEEEEEEEEEEEEEEEEEEEEEEEEEE\n",
            "CC12CCOC(CC1)C=CC2EEEEEEEEEEEEEEEEEEEEEEEEEEEEEEEEEEEEEE CC1CCCCCCCO1)CCC22EEEEEEEEEEEEEEEEEEEEEEEEEEEEEEEEEEEEEE\n",
            "Cc1cc2ccsnc2c1C#CEEEEEEEEEEEEEEEEEEEEEEEEEEEEEEEEEEEEEEE Cc1cccCcccc2C1C#CEEEEEEEEEEEEEEEEEEEEEEEEEEEEEEEEEEEEEEE\n",
            "CC1=CC(=CCOCOCCC#C1)C#NEEEEEEEEEEEEEEEEEEEEEEEEEEEEEEEEE CC1=CCCCOCCC1C111C))C#NEEEEEEEEEEEEEEEEEEEEEEEEEEEEEEEEE\n",
            "CC(O)C1[NH2+]C(C)CC(CO)NC1=OEEEEEEEEEEEEEEEEEEEEEEEEEEEE CC(O)C((NH2+]CCC)(((C))CC1=OEEEEEEEEEEEEEEEEEEEEEEEEEEEE\n",
            "CC1C([NH3+])C(CO)C1(O)C=C(C)CEEEEEEEEEEEEEEEEEEEEEEEEEEE CC1C([NH3+])CCC))C(CC)CCCCC)CEEEEEEEEEEEEEEEEEEEEEEEEEEE\n",
            "CC1=C2CCC1CC(CC([O-])=O)COC2EEEEEEEEEEEEEEEEEEEEEEEEEEEE CC1=CCCCCCC(CCC2=N-])=O)C222EEEEEEEEEEEEEEEEEEEEEEEEEEEE\n",
            "CC1=CC(CO)=CC(C[NH3+])=C(C)C1EEEEEEEEEEEEEEEEEEEEEEEEEEE CC1=CC(C))CCC(C)NH3+])CCCC)C1EEEEEEEEEEEEEEEEEEEEEEEEEEE\n",
            "Cc1ccccc1C(CCOC(C)(C)C)C#CEEEEEEEEEEEEEEEEEEEEEEEEEEEEEE Cc1cccc(1C1=)#)CC)(C)C)C#CEEEEEEEEEEEEEEEEEEEEEEEEEEEEEE\n",
            "CC1=CCc2[nH]cc(O)c2OC(=O)NC1=OEEEEEEEEEEEEEEEEEEEEEEEEEE CC1=CC(2cnH]cc(C)c2cCCCO)CCc=OEEEEEEEEEEEEEEEEEEEEEEEEEE\n",
            "Cc1[nH]c(CC[NH3+])nc1C1=CCCC1EEEEEEEEEEEEEEEEEEEEEEEEEEE Cc1cnH]c(C)CNH3+])cc1C1CCCC11EEEEEEEEEEEEEEEEEEEEEEEEEEE\n",
            "CC12CCC(C1O)C(C[NH3+])C=C2EEEEEEEEEEEEEEEEEEEEEEEEEEEEEE CC1CCCCCCC))C(C)NH3+])CCC2EEEEEEEEEEEEEEEEEEEEEEEEEEEEEE\n",
            "CC1=C2COCC1C(=O)C=CC#CC2EEEEEEEEEEEEEEEEEEEEEEEEEEEEEEEE CC1=CCCCCCCCCCO)CCCCCCC2EEEEEEEEEEEEEEEEEEEEEEEEEEEEEEEE\n",
            "CC1(OCC([NH3+])C1C#N)C#CEEEEEEEEEEEEEEEEEEEEEEEEEEEEEEEE CC1(C)C([NH3+])C1)OC)C#CEEEEEEEEEEEEEEEEEEEEEEEEEEEEEEEE\n",
            "Cc1[nH]c2ccccc2c1C#CEEEEEEEEEEEEEEEEEEEEEEEEEEEEEEEEEEEE Cc1cnH]ccCcccc2C1C#NEEEEEEEEEEEEEEEEEEEEEEEEEEEEEEEEEEEE\n",
            "CC1C(C[NH3+])C11COC1C[NH3+]EEEEEEEEEEEEEEEEEEEEEEEEEEEEE CC1C(O[NH3+])CCCCCCCCCNH3+]EEEEEEEEEEEEEEEEEEEEEEEEEEEEE\n",
            "CC1(CC(O)C(CO)=C1)C(=NO)C1CC[NH2+]1EEEEEEEEEEEEEEEEEEEEE CC1(C)CC)CCC))CC1)C(COO)C(CCCNH2+]1EEEEEEEEEEEEEEEEEEEEE\n",
            "CC1(CCCC#C)[NH2+]C2CC1CC2CCCOEEEEEEEEEEEEEEEEEEEEEEEEEEE CC1(CCCCCC)CNH2+]CCCCCCCCCC#1EEEEEEEEEEEEEEEEEEEEEEEEEEE\n",
            "CC1=C(C2CC(C1)CC=CC2)C(C)(C)COEEEEEEEEEEEEEEEEEEEEEEEEEE CC1=CCCCCCCC))C22C22)C(C)(C)CEEEEEEEEEEEEEEEEEEEEEEEEEEE\n",
            "CC1C2CC(O)C(C)=C(C)C12EEEEEEEEEEEEEEEEEEEEEEEEEEEEEEEEEE CC1C2CC(C)CCCC=CCC)C12EEEEEEEEEEEEEEEEEEEEEEEEEEEEEEEEEE\n",
            "CC(O)C(=O)OCCC1(CC1)C(N)=OEEEEEEEEEEEEEEEEEEEEEEEEEEEEEE CC(O)C1CO)CC11(CC)O)C1N)=OEEEEEEEEEEEEEEEEEEEEEEEEEEEEEE\n",
            "CC1=CC(C)(C)C(=CC(CC[NH3+])=CC1)C#NEEEEEEEEEEEEEEEEEEEEE CC1=CC(C)(C)C2COCCC)#NH3+])CC11)C#NEEEEEEEEEEEEEEEEEEEEE\n",
            "CC1C(OCC2=CCC3CCC123)C(C)(C)OEEEEEEEEEEEEEEEEEEEEEEEEEEE CC1C(C)CCCCCCCCCC22))C(C)(C)OEEEEEEEEEEEEEEEEEEEEEEEEEEE\n",
            "CC12CC[NH2+]C1CCC(COCC[NH3+])C2C#CEEEEEEEEEEEEEEEEEEEEEE CC1CCC(NH2+]CCCCCCCC)22NH2+])C2CCCEEEEEEEEEEEEEEEEEEEEEE\n",
            "CC1=CC[NH+]2CC1(C)C=CC=C(C)C2EEEEEEEEEEEEEEEEEEEEEEEEEEE CC1=CC(NH2](CCCCC)CCCCCCCC)C2EEEEEEEEEEEEEEEEEEEEEEEEEEE\n",
            "CC1=CC=CC2C=CCC12C([O-])=OEEEEEEEEEEEEEEEEEEEEEEEEEEEEEE CC1=CCCCCCCCCCCCCC(=O-])=OEEEEEEEEEEEEEEEEEEEEEEEEEEEEEE\n",
            "CC12C3CC1C=C(C#C)C2CC(CO3)=NOEEEEEEEEEEEEEEEEEEEEEEEEEEE CC1CCCCCCCCCCCCC)C2C(CC)))CNOEEEEEEEEEEEEEEEEEEEEEEEEEEE\n",
            "CC1C([NH3+])C(N)C1C#CC[NH3+]EEEEEEEEEEEEEEEEEEEEEEEEEEEE CC1C([NH3+])CCC)C1CCCCCNH3+]EEEEEEEEEEEEEEEEEEEEEEEEEEEE\n",
            "Cc1cc2ccn3c(cc(=O)[nH]c3c2c1)C#CEEEEEEEEEEEEEEEEEEEEEEEE Cc1cc2C((cCcCc3CO)cnH]22C2c1)C#CEEEEEEEEEEEEEEEEEEEEEEEE\n",
            "CC1=C(C)C2(CCC=C2CC=C1)[NH+]1CCC1EEEEEEEEEEEEEEEEEEEEEEE CC1=CCCCC2CCCC2CC)CCCC)CNH2](CCC1EEEEEEEEEEEEEEEEEEEEEEE\n",
            "CC1([NH3+])CC(CO)=CC1C[NH2+]CCOEEEEEEEEEEEEEEEEEEEEEEEEE CC1([NH3+])CCCCC)CCC(C(NH2+]CC1EEEEEEEEEEEEEEEEEEEEEEEEE\n",
            "Cc1ocnc1-c1ccc2COCc2c1EEEEEEEEEEEEEEEEEEEEEEEEEEEEEEEEEE Cc1cccc1Cc1ccccCCCC1c1EEEEEEEEEEEEEEEEEEEEEEEEEEEEEEEEEE\n",
            "CC12CC1C1CCCC=C1C([NH3+])CC2EEEEEEEEEEEEEEEEEEEEEEEEEEEE CC1CCCCCCCCCC(CCCCCNH3+])C22EEEEEEEEEEEEEEEEEEEEEEEEEEEE\n",
            "CC1=CC2(C[NH3+])CC1COC2EEEEEEEEEEEEEEEEEEEEEEEEEEEEEEEEE CC1=CCC(CCNH2+])CC22222EEEEEEEEEEEEEEEEEEEEEEEEEEEEEEEEE\n",
            "CC1C(CC(C(C)[NH+]1C)C([O-])=O)OC(N)=OEEEEEEEEEEEEEEEEEEE CC1C(C)(=)C)CNH3]2C)C1=N-])=O)CCCC)=OEEEEEEEEEEEEEEEEEEE\n",
            "CC12CCC=C1C(=NO)C(N)=CC(C=C2)=NOEEEEEEEEEEEEEEEEEEEEEEEE CC1CCCCCCCCCCOO)C(C)=C22=)C2)CNOEEEEEEEEEEEEEEEEEEEEEEEE\n",
            "CC1=CCCCCCC2=CCCC2=C1EEEEEEEEEEEEEEEEEEEEEEEEEEEEEEEEEEE CC1=CCC22222CCCCC1CC1EEEEEEEEEEEEEEEEEEEEEEEEEEEEEEEEEEE\n",
            "CC1=C(CCC2=CC(CCC12)C#N)C#CEEEEEEEEEEEEEEEEEEEEEEEEEEEEE CC1=CCCCC2CCCCC)22))C#C)C#CEEEEEEEEEEEEEEEEEEEEEEEEEEEEE\n",
            "CC1C(=O)NC=C(C)CC=CCCC1(C)OEEEEEEEEEEEEEEEEEEEEEEEEEEEEE CC1C(CO)CCCCCC)C2(CCC11CC)OEEEEEEEEEEEEEEEEEEEEEEEEEEEEE\n",
            "CC1(Cc2cc(=[NH2+])cc([O-])[nH]2)CC(C[NH3+])C1EEEEEEEEEEE CC1(C)2cccCONH2+])cc2CO-])cnH]2)C(CC)NH3+])cOEEEEEEEEEEE\n",
            "CC1=CC2CC1(C)CC([NH3+])C2[NH3+]EEEEEEEEEEEEEEEEEEEEEEEEE CC1=CCCCC(CC)CC(CNH3+])CCCNH3+]EEEEEEEEEEEEEEEEEEEEEEEEE\n",
            "CC1=CC2=C(CC=C2)C(=NO)C1C=CEEEEEEEEEEEEEEEEEEEEEEEEEEEEE CC1=CCCCCCCCCCC)C(COO)C1CCCEEEEEEEEEEEEEEEEEEEEEEEEEEEEE\n",
            "CC1C2C(CC=C2C)C=C2CC(O)C(=O)N12EEEEEEEEEEEEEEEEEEEEEEEEE CC1C2CCCCCCCCCC(CCC((C)CC=O)C12EEEEEEEEEEEEEEEEEEEEEEEEE\n",
            "CC1=C(CO)C([NH3+])C(=CC=C1)c1ncn[nH]1EEEEEEEEEEEEEEEEEEE CC1=C(C))C(CNH3+])CCCCCCC1)C1ccccnH]1EEEEEEEEEEEEEEEEEEE\n",
            "CC1(CO)C(C#C)C2CCC=C12EEEEEEEEEEEEEEEEEEEEEEEEEEEEEEEEEE CC1(C))CCCCC)C2CCC1C12EEEEEEEEEEEEEEEEEEEEEEEEEEEEEEEEEE\n",
            "CC1(O)C(O)C1CCC1CC[NH2+]1EEEEEEEEEEEEEEEEEEEEEEEEEEEEEEE CC1(C)CCC)CCCCC((C(NH2+]1EEEEEEEEEEEEEEEEEEEEEEEEEEEEEEE\n",
            "Cc1cccc(CC2CC(CC2=O)C#N)c1NEEEEEEEEEEEEEEEEEEEEEEEEEEEEE Cc1ccc22CC2CCCC)2)O)C#C)c1EEEEEEEEEEEEEEEEEEEEEEEEEEEEEE\n",
            "CC1=C(CC2C=CC#CC=CCC=C12)C#NEEEEEEEEEEEEEEEEEEEEEEEEEEEE CC1=CCCCCCCCCCC)CC222C2))C#NEEEEEEEEEEEEEEEEEEEEEEEEEEEE\n",
            "CC1C(C(NC(C)=O)C#N)C(C)(CO)[NH+]1CEEEEEEEEEEEEEEEEEEEEEE CC1C(C)C)==)(O)C(C)C(C)(C))CNH2]1CEEEEEEEEEEEEEEEEEEEEEE\n",
            "CC1(CCNC=O)NCC1=OEEEEEEEEEEEEEEEEEEEEEEEEEEEEEEEEEEEEEEE CC1(C)CC1O)CCC1=OEEEEEEEEEEEEEEEEEEEEEEEEEEEEEEEEEEEEEEE\n",
            "CC1=CC=CC(CC1)=C1COC(=O)C1EEEEEEEEEEEEEEEEEEEEEEEEEEEEEE CC1=CCCCCCCC2)CCCCCCCCO)C1EEEEEEEEEEEEEEEEEEEEEEEEEEEEEE\n",
            "CC1C(=O)NC11CNC1C#NEEEEEEEEEEEEEEEEEEEEEEEEEEEEEEEEEEEEE CC1C(CO)CCCCCCCC=ONEEEEEEEEEEEEEEEEEEEEEEEEEEEEEEEEEEEEE\n",
            "CC1C(C#N)C2CCC1N2C(N)=[NH2+]EEEEEEEEEEEEEEEEEEEEEEEEEEEE CC1C(CCC)C2CC((C(C(=)C[NH2+]EEEEEEEEEEEEEEEEEEEEEEEEEEEE\n",
            "Cc1oc(C2CCCC2)c(O)c2nccc12EEEEEEEEEEEEEEEEEEEEEEEEEEEEEE Cc1cccCCCCC22Cc2C)c(C1cc12EEEEEEEEEEEEEEEEEEEEEEEEEEEEEE\n",
            "CC1=C(C=CC2(CCC2)C([NH3+])C1C[NH3+])C#CEEEEEEEEEEEEEEEEE CC1=CCCCCCCCCC22)C([NH3+])C()CNH3+])C#CEEEEEEEEEEEEEEEEE\n",
            "CC1C([NH3+])CCC11CCC=CC(C)C1EEEEEEEEEEEEEEEEEEEEEEEEEEEE CC1C([NH3+])CCCCCCCCCCCCC)=1EEEEEEEEEEEEEEEEEEEEEEEEEEEE\n",
            "CC1=CNC(=O)CC2COC(=O)N12EEEEEEEEEEEEEEEEEEEEEEEEEEEEEEEE CC1=CCC(=O)C22CCCCCO)C12EEEEEEEEEEEEEEEEEEEEEEEEEEEEEEEE\n",
            "CC1=C2C([NH2+]C1)C=CC(C)=C2C[NH3+]EEEEEEEEEEEEEEEEEEEEEE CC1=CCC([NH3+]CC)C(CC(C)(CCCCNH3+]EEEEEEEEEEEEEEEEEEEEEE\n",
            "CC1=C(CCC1C#N)C1CC1EEEEEEEEEEEEEEEEEEEEEEEEEEEEEEEEEEEEE CC1=CCC)CC)OC)C1CC1EEEEEEEEEEEEEEEEEEEEEEEEEEEEEEEEEEEEE\n",
            "CC1(C)C([NH3+])CC(C[NH3+])CC1NC=OEEEEEEEEEEEEEEEEEEEEEEE CC1(C)C([NH3+])CC(C)NH3+])C11CC=OEEEEEEEEEEEEEEEEEEEEEEE\n",
            "CC12CC1CCCCC2=NOEEEEEEEEEEEEEEEEEEEEEEEEEEEEEEEEEEEEEEEE CC1CCCCCCCCCCCOOEEEEEEEEEEEEEEEEEEEEEEEEEEEEEEEEEEEEEEEE\n",
            "CC1(C)C[NH2+]C(C1O)c1occ(C#N)c1C#CEEEEEEEEEEEEEEEEEEEEEE CC1(C)CCNH2+]CCCC))C1ccc(C)C)c1C#CEEEEEEEEEEEEEEEEEEEEEE\n",
            "CC12C[NH2+]C1C(N2)C1C[NH2+]C1EEEEEEEEEEEEEEEEEEEEEEEEEEE CC1CCCNH2+]CCCCCC)C(CCNH2+]C1EEEEEEEEEEEEEEEEEEEEEEEEEEE\n",
            "CC1=CC[NH2+]CC=C(C2CC2)C1(C)CEEEEEEEEEEEEEEEEEEEEEEEEEEE CC1=CC(NH2+]CCCCCC)CCC)C1CC)CEEEEEEEEEEEEEEEEEEEEEEEEEEE\n",
            "CC1(CC2OCC2O1)C(O)C([O-])=OEEEEEEEEEEEEEEEEEEEEEEEEEEEEE CC1(CCCCCCC)))C(C)C(CO-])=OEEEEEEEEEEEEEEEEEEEEEEEEEEEEE\n",
            "CC1=CC(O)C(C#N)(C1O)C(=O)CC=NOEEEEEEEEEEEEEEEEEEEEEEEEEE CC1=C((C)C(C)C)CCC))C(=O)CC#COEEEEEEEEEEEEEEEEEEEEEEEEEE\n",
            "CC1C(=O)CCCC1=NOEEEEEEEEEEEEEEEEEEEEEEEEEEEEEEEEEEEEEEEE CC1C(CO)CCC11=OOEEEEEEEEEEEEEEEEEEEEEEEEEEEEEEEEEEEEEEEE\n",
            "CC1C(O)CC=C1C(C)(C)[NH3+]EEEEEEEEEEEEEEEEEEEEEEEEEEEEEEE CC1C(C)CC2CCC(C)(C)CNH3+]EEEEEEEEEEEEEEEEEEEEEEEEEEEEEEE\n",
            "Cc1cc(c(C)cc1N)C12CCCC1CCC2EEEEEEEEEEEEEEEEEEEEEEEEEEEEE Cc1cccCcC)c22C)C1CCCCCCCC22EEEEEEEEEEEEEEEEEEEEEEEEEEEEE\n"
          ],
          "name": "stdout"
        }
      ]
    },
    {
      "cell_type": "code",
      "metadata": {
        "id": "GWepvDRVwKhr",
        "colab_type": "code",
        "colab": {}
      },
      "source": [
        "smiles_to_latent_model = Model(encoder_inputs, neck_outputs)\n",
        "smiles_to_latent_model.save(\"Blog_simple_smi2lat.h5\")"
      ],
      "execution_count": 0,
      "outputs": []
    },
    {
      "cell_type": "code",
      "metadata": {
        "id": "kLTjEyQOwOYh",
        "colab_type": "code",
        "colab": {}
      },
      "source": [
        "latent_input = Input(shape=(latent_dim,))\n",
        "#reuse_layers\n",
        "state_h_decoded_2 =  decode_h(latent_input)\n",
        "state_c_decoded_2 =  decode_c(latent_input)\n",
        "latent_to_states_model = Model(latent_input, [state_h_decoded_2, state_c_decoded_2])\n",
        "latent_to_states_model.save(\"Blog_simple_lat2state.h5\")"
      ],
      "execution_count": 0,
      "outputs": []
    },
    {
      "cell_type": "code",
      "metadata": {
        "id": "fFJ3tOHuwQKC",
        "colab_type": "code",
        "colab": {}
      },
      "source": [
        "#Last one is special, we need to change it to stateful, and change the input shape\n",
        "inf_decoder_inputs = Input(batch_shape=(1, 1, input_shape[1]))\n",
        "inf_decoder_lstm = LSTM(lstm_dim,\n",
        "                    return_sequences=True,\n",
        "                    unroll=unroll,\n",
        "                    stateful=True\n",
        "                   )\n",
        "inf_decoder_outputs = inf_decoder_lstm(inf_decoder_inputs)\n",
        "inf_decoder_dense = Dense(output_dim, activation='softmax')\n",
        "inf_decoder_outputs = inf_decoder_dense(inf_decoder_outputs)\n",
        "sample_model = Model(inf_decoder_inputs, inf_decoder_outputs)\n"
      ],
      "execution_count": 0,
      "outputs": []
    },
    {
      "cell_type": "code",
      "metadata": {
        "id": "hmH6qKOzwRcw",
        "colab_type": "code",
        "colab": {}
      },
      "source": [
        "#Transfer Weights\n",
        "for i in range(1,3):\n",
        "    sample_model.layers[i].set_weights(model.layers[i+6].get_weights())\n",
        "sample_model.save(\"Blog_simple_samplemodel.h5\")"
      ],
      "execution_count": 0,
      "outputs": []
    },
    {
      "cell_type": "code",
      "metadata": {
        "id": "z193Kyb5wSyo",
        "colab_type": "code",
        "outputId": "ddea24e7-5279-4d69-e1b4-644d5371ec45",
        "colab": {
          "base_uri": "https://localhost:8080/",
          "height": 263
        }
      },
      "source": [
        "sample_model.summary()"
      ],
      "execution_count": 0,
      "outputs": [
        {
          "output_type": "stream",
          "text": [
            "Model: \"model_4\"\n",
            "_________________________________________________________________\n",
            "Layer (type)                 Output Shape              Param #   \n",
            "=================================================================\n",
            "input_4 (InputLayer)         (1, 1, 24)                0         \n",
            "_________________________________________________________________\n",
            "lstm_3 (LSTM)                (1, 1, 64)                22784     \n",
            "_________________________________________________________________\n",
            "dense_5 (Dense)              (1, 1, 24)                1560      \n",
            "=================================================================\n",
            "Total params: 24,344\n",
            "Trainable params: 24,344\n",
            "Non-trainable params: 0\n",
            "_________________________________________________________________\n"
          ],
          "name": "stdout"
        }
      ]
    },
    {
      "cell_type": "code",
      "metadata": {
        "id": "tERbA-fEwUFB",
        "colab_type": "code",
        "colab": {}
      },
      "source": [
        "x_latent = smiles_to_latent_model.predict(X_test)"
      ],
      "execution_count": 0,
      "outputs": []
    },
    {
      "cell_type": "code",
      "metadata": {
        "id": "SB-Oynu8wVQ4",
        "colab_type": "code",
        "outputId": "fbefa165-c01d-4f4f-a33b-53356f12d042",
        "colab": {
          "base_uri": "https://localhost:8080/",
          "height": 413
        }
      },
      "source": [
        "molno = 5\n",
        "latent_mol = smiles_to_latent_model.predict(X_test[molno:molno+1])\n",
        "sorti = np.argsort(np.sum(np.abs(x_latent - latent_mol), axis=1))\n",
        "print(sorti[0:10])\n",
        "print(smiles_test.iloc[sorti[0:8]])\n",
        "Draw.MolsToImage(smiles_test.iloc[sorti[0:8]].apply(Chem.MolFromSmiles))"
      ],
      "execution_count": 0,
      "outputs": [
        {
          "output_type": "stream",
          "text": [
            "[    5  6600  6931  6780  7864  6403  9797  7881 13135  9130]\n",
            "51012     Cc1nc2c(CC(CC#CCC=C2C)=NO)s1\n",
            "4859     Cc1cc2CCCc3c(c[nH]c3-c2o1)C#C\n",
            "48843    Cc1cc2CC#CC=CC(C)=C(C)c1[nH]2\n",
            "41433    Cc1cc2C=CCC3(C)CC3CC#Cc1[nH]2\n",
            "51053     Cc1cc2CCC(C#C)=C(C)C(O)c2cn1\n",
            "33929     Cc1cc2CC(Nc2c2c1OCC2(C)C)C#N\n",
            "4283      Cc1cc2CC=CC=CC(C)=Cn2c(=O)c1\n",
            "42127     Cc1cc2CC(CC3(CCCC3)C#N)Cc2s1\n",
            "Name: smiles, dtype: object\n"
          ],
          "name": "stdout"
        },
        {
          "output_type": "execute_result",
          "data": {
            "image/png": "[encoded data removed]",
            "text/plain": [
              "<PIL.Image.Image image mode=RGBA size=1600x200 at 0x7F6E111CF0B8>"
            ]
          },
          "metadata": {
            "tags": []
          },
          "execution_count": 23
        }
      ]
    },
    {
      "cell_type": "code",
      "metadata": {
        "id": "kr6cmjZywWSV",
        "colab_type": "code",
        "outputId": "d3a6dc7c-95c3-46c3-addc-41178a630f05",
        "colab": {
          "base_uri": "https://localhost:8080/",
          "height": 237
        }
      },
      "source": [
        "Draw.MolsToImage(smiles_test.iloc[sorti[-8:]].apply(Chem.MolFromSmiles))"
      ],
      "execution_count": 0,
      "outputs": [
        {
          "output_type": "execute_result",
          "data": {
            "image/png": "[encoded data removed]",
            "text/plain": [
              "<PIL.Image.Image image mode=RGBA size=1600x200 at 0x7F6D17FD4DA0>"
            ]
          },
          "metadata": {
            "tags": []
          },
          "execution_count": 24
        }
      ]
    },
    {
      "cell_type": "code",
      "metadata": {
        "id": "dQvi7igowXyF",
        "colab_type": "code",
        "colab": {}
      },
      "source": [
        "logp = smiles_test.apply(Chem.MolFromSmiles).apply(Descriptors.MolLogP)"
      ],
      "execution_count": 0,
      "outputs": []
    },
    {
      "cell_type": "code",
      "metadata": {
        "id": "65mzC_fGwZjX",
        "colab_type": "code",
        "outputId": "de343c7e-2ae4-46f6-aaf5-42f6f41954c9",
        "colab": {
          "base_uri": "https://localhost:8080/",
          "height": 282
        }
      },
      "source": [
        "from sklearn.decomposition import PCA\n",
        "pca = PCA(n_components = 2)\n",
        "red = pca.fit_transform(x_latent)\n",
        "plt.figure()\n",
        "plt.scatter(red[:,0], red[:,1],marker='.', c= logp)\n",
        "print(pca.explained_variance_ratio_, np.sum(pca.explained_variance_ratio_))"
      ],
      "execution_count": 0,
      "outputs": [
        {
          "output_type": "stream",
          "text": [
            "[0.75136757 0.20749316] 0.95886075\n"
          ],
          "name": "stdout"
        },
        {
          "output_type": "display_data",
          "data": {
            "image/png": "[encoded data removed]",
            "text/plain": [
              "<Figure size 432x288 with 1 Axes>"
            ]
          },
          "metadata": {
            "tags": []
          }
        }
      ]
    },
    {
      "cell_type": "code",
      "metadata": {
        "id": "nf5r0Onwwbr7",
        "colab_type": "code",
        "outputId": "6a45f0da-e2d2-4ac1-9304-1ec8be5cdf84",
        "colab": {
          "base_uri": "https://localhost:8080/",
          "height": 282
        }
      },
      "source": [
        "molwt = smiles_test.apply(Chem.MolFromSmiles).apply(Descriptors.MolMR)\n",
        "plt.figure()\n",
        "plt.scatter(red[:,0], red[:,1],marker='.', c= molwt)"
      ],
      "execution_count": 0,
      "outputs": [
        {
          "output_type": "execute_result",
          "data": {
            "text/plain": [
              "<matplotlib.collections.PathCollection at 0x7f6d0f1290b8>"
            ]
          },
          "metadata": {
            "tags": []
          },
          "execution_count": 27
        },
        {
          "output_type": "display_data",
          "data": {
            "image/png": "[encoded data removed]",
            "text/plain": [
              "<Figure size 432x288 with 1 Axes>"
            ]
          },
          "metadata": {
            "tags": []
          }
        }
      ]
    },
    {
      "cell_type": "code",
      "metadata": {
        "id": "WN-LQxI1wc4N",
        "colab_type": "code",
        "colab": {}
      },
      "source": [
        "#Model LogP?\n",
        "x_train_latent = smiles_to_latent_model.predict(X_train)\n",
        "logp_train = smiles_train.apply(Chem.MolFromSmiles).apply(Descriptors.MolLogP)"
      ],
      "execution_count": 0,
      "outputs": []
    },
    {
      "cell_type": "code",
      "metadata": {
        "id": "nb8n9rh2wej_",
        "colab_type": "code",
        "colab": {}
      },
      "source": [
        "from keras.models import Sequential\n",
        "logp_model = Sequential()\n",
        "logp_model.add(Dense(128, input_shape=(latent_dim,), activation=\"relu\"))\n",
        "logp_model.add(Dense(128, activation=\"relu\"))\n",
        "logp_model.add(Dense(1))\n",
        "logp_model.compile(optimizer=\"adam\", loss=\"mse\")\n"
      ],
      "execution_count": 0,
      "outputs": []
    },
    {
      "cell_type": "code",
      "metadata": {
        "id": "t6ONUgyNw4mF",
        "colab_type": "code",
        "outputId": "4368562e-503b-4224-9d1c-d3e7bb15c5e7",
        "colab": {
          "base_uri": "https://localhost:8080/",
          "height": 1000
        }
      },
      "source": [
        "rlr = ReduceLROnPlateau(monitor='val_loss', factor=0.5,patience=10, min_lr=0.000001, verbose=1, epsilon=1e-5)\n",
        "logp_model.fit(x_train_latent, logp_train, batch_size=128, epochs=100, callbacks = [rlr])\n"
      ],
      "execution_count": 0,
      "outputs": [
        {
          "output_type": "stream",
          "text": [
            "/usr/local/lib/python3.6/dist-packages/keras/callbacks.py:1335: UserWarning: `epsilon` argument is deprecated and will be removed, use `min_delta` instead.\n",
            "  warnings.warn('`epsilon` argument is deprecated and '\n"
          ],
          "name": "stderr"
        },
        {
          "output_type": "stream",
          "text": [
            "Epoch 1/100\n",
            "45000/45000 [==============================] - 2s 44us/step - loss: 1.9714\n",
            "Epoch 2/100\n",
            " 4736/45000 [==>...........................] - ETA: 1s - loss: 1.5146"
          ],
          "name": "stdout"
        },
        {
          "output_type": "stream",
          "text": [
            "/usr/local/lib/python3.6/dist-packages/keras/callbacks.py:1379: RuntimeWarning: Reduce LR on plateau conditioned on metric `val_loss` which is not available. Available metrics are: loss,lr\n",
            "  (self.monitor, ','.join(list(logs.keys()))), RuntimeWarning\n"
          ],
          "name": "stderr"
        },
        {
          "output_type": "stream",
          "text": [
            "45000/45000 [==============================] - 1s 32us/step - loss: 1.5393\n",
            "Epoch 3/100\n",
            "45000/45000 [==============================] - 1s 33us/step - loss: 1.5092\n",
            "Epoch 4/100\n",
            "45000/45000 [==============================] - 1s 31us/step - loss: 1.4938\n",
            "Epoch 5/100\n",
            "45000/45000 [==============================] - 1s 32us/step - loss: 1.4865\n",
            "Epoch 6/100\n",
            "45000/45000 [==============================] - 1s 33us/step - loss: 1.4670\n",
            "Epoch 7/100\n",
            "45000/45000 [==============================] - 1s 32us/step - loss: 1.4401\n",
            "Epoch 8/100\n",
            "45000/45000 [==============================] - 1s 32us/step - loss: 1.4253\n",
            "Epoch 9/100\n",
            "45000/45000 [==============================] - 2s 33us/step - loss: 1.4410\n",
            "Epoch 10/100\n",
            "45000/45000 [==============================] - 1s 33us/step - loss: 1.4133\n",
            "Epoch 11/100\n",
            "45000/45000 [==============================] - 1s 32us/step - loss: 1.4051\n",
            "Epoch 12/100\n",
            "45000/45000 [==============================] - 1s 31us/step - loss: 1.4124\n",
            "Epoch 13/100\n",
            "45000/45000 [==============================] - 1s 32us/step - loss: 1.4012\n",
            "Epoch 14/100\n",
            "45000/45000 [==============================] - 1s 33us/step - loss: 1.4000\n",
            "Epoch 15/100\n",
            "45000/45000 [==============================] - 1s 33us/step - loss: 1.3968\n",
            "Epoch 16/100\n",
            "45000/45000 [==============================] - 1s 32us/step - loss: 1.3938\n",
            "Epoch 17/100\n",
            "45000/45000 [==============================] - 1s 32us/step - loss: 1.3862\n",
            "Epoch 18/100\n",
            "45000/45000 [==============================] - 1s 32us/step - loss: 1.3827\n",
            "Epoch 19/100\n",
            "45000/45000 [==============================] - 1s 32us/step - loss: 1.3864\n",
            "Epoch 20/100\n",
            "45000/45000 [==============================] - 1s 33us/step - loss: 1.3819\n",
            "Epoch 21/100\n",
            "45000/45000 [==============================] - 1s 33us/step - loss: 1.3804\n",
            "Epoch 22/100\n",
            "45000/45000 [==============================] - 1s 32us/step - loss: 1.3750\n",
            "Epoch 23/100\n",
            "45000/45000 [==============================] - 1s 32us/step - loss: 1.3611\n",
            "Epoch 24/100\n",
            "45000/45000 [==============================] - 1s 31us/step - loss: 1.3730\n",
            "Epoch 25/100\n",
            "45000/45000 [==============================] - 1s 32us/step - loss: 1.3589\n",
            "Epoch 26/100\n",
            "45000/45000 [==============================] - 2s 33us/step - loss: 1.3588\n",
            "Epoch 27/100\n",
            "45000/45000 [==============================] - 1s 33us/step - loss: 1.3649\n",
            "Epoch 28/100\n",
            "45000/45000 [==============================] - 2s 34us/step - loss: 1.3575\n",
            "Epoch 29/100\n",
            "45000/45000 [==============================] - 1s 32us/step - loss: 1.3613\n",
            "Epoch 30/100\n",
            "45000/45000 [==============================] - 1s 31us/step - loss: 1.3507\n",
            "Epoch 31/100\n",
            "45000/45000 [==============================] - 2s 34us/step - loss: 1.3552\n",
            "Epoch 32/100\n",
            "45000/45000 [==============================] - 1s 33us/step - loss: 1.3511\n",
            "Epoch 33/100\n",
            "45000/45000 [==============================] - 1s 33us/step - loss: 1.3591\n",
            "Epoch 34/100\n",
            "45000/45000 [==============================] - 2s 33us/step - loss: 1.3488\n",
            "Epoch 35/100\n",
            "45000/45000 [==============================] - 1s 32us/step - loss: 1.3460\n",
            "Epoch 36/100\n",
            "45000/45000 [==============================] - 1s 32us/step - loss: 1.3420\n",
            "Epoch 37/100\n",
            "45000/45000 [==============================] - 1s 31us/step - loss: 1.3531\n",
            "Epoch 38/100\n",
            "45000/45000 [==============================] - 2s 33us/step - loss: 1.3401\n",
            "Epoch 39/100\n",
            "45000/45000 [==============================] - 1s 33us/step - loss: 1.3386\n",
            "Epoch 40/100\n",
            "45000/45000 [==============================] - 1s 32us/step - loss: 1.3413\n",
            "Epoch 41/100\n",
            "45000/45000 [==============================] - 1s 32us/step - loss: 1.3332\n",
            "Epoch 42/100\n",
            "45000/45000 [==============================] - 1s 32us/step - loss: 1.3423\n",
            "Epoch 43/100\n",
            "45000/45000 [==============================] - 1s 32us/step - loss: 1.3437\n",
            "Epoch 44/100\n",
            "45000/45000 [==============================] - 1s 31us/step - loss: 1.3269\n",
            "Epoch 45/100\n",
            "45000/45000 [==============================] - 1s 33us/step - loss: 1.3339\n",
            "Epoch 46/100\n",
            "45000/45000 [==============================] - 1s 32us/step - loss: 1.3302\n",
            "Epoch 47/100\n",
            "45000/45000 [==============================] - 1s 32us/step - loss: 1.3373\n",
            "Epoch 48/100\n",
            "45000/45000 [==============================] - 1s 32us/step - loss: 1.3171\n",
            "Epoch 49/100\n",
            "45000/45000 [==============================] - 1s 32us/step - loss: 1.3202\n",
            "Epoch 50/100\n",
            "45000/45000 [==============================] - 1s 31us/step - loss: 1.3323\n",
            "Epoch 51/100\n",
            "45000/45000 [==============================] - 1s 31us/step - loss: 1.3239\n",
            "Epoch 52/100\n",
            "45000/45000 [==============================] - 1s 31us/step - loss: 1.3367\n",
            "Epoch 53/100\n",
            "45000/45000 [==============================] - 1s 32us/step - loss: 1.3227\n",
            "Epoch 54/100\n",
            "45000/45000 [==============================] - 1s 31us/step - loss: 1.3236\n",
            "Epoch 55/100\n",
            "45000/45000 [==============================] - 1s 31us/step - loss: 1.3164\n",
            "Epoch 56/100\n",
            "45000/45000 [==============================] - 2s 33us/step - loss: 1.3153\n",
            "Epoch 57/100\n",
            "45000/45000 [==============================] - 2s 34us/step - loss: 1.3166\n",
            "Epoch 58/100\n",
            "45000/45000 [==============================] - 2s 34us/step - loss: 1.3111\n",
            "Epoch 59/100\n",
            "45000/45000 [==============================] - 2s 34us/step - loss: 1.3219\n",
            "Epoch 60/100\n",
            "45000/45000 [==============================] - 1s 33us/step - loss: 1.3181\n",
            "Epoch 61/100\n",
            "45000/45000 [==============================] - 1s 32us/step - loss: 1.3100\n",
            "Epoch 62/100\n",
            "45000/45000 [==============================] - 1s 32us/step - loss: 1.3144\n",
            "Epoch 63/100\n",
            "45000/45000 [==============================] - 1s 32us/step - loss: 1.3065\n",
            "Epoch 64/100\n",
            "45000/45000 [==============================] - 1s 32us/step - loss: 1.3063\n",
            "Epoch 65/100\n",
            "45000/45000 [==============================] - 1s 32us/step - loss: 1.3041\n",
            "Epoch 66/100\n",
            "45000/45000 [==============================] - 1s 32us/step - loss: 1.2998\n",
            "Epoch 67/100\n",
            "45000/45000 [==============================] - 1s 32us/step - loss: 1.3074\n",
            "Epoch 68/100\n",
            "45000/45000 [==============================] - 1s 33us/step - loss: 1.2961\n",
            "Epoch 69/100\n",
            "45000/45000 [==============================] - 1s 32us/step - loss: 1.3026\n",
            "Epoch 70/100\n",
            "45000/45000 [==============================] - 1s 32us/step - loss: 1.2948\n",
            "Epoch 71/100\n",
            "45000/45000 [==============================] - 1s 32us/step - loss: 1.2987\n",
            "Epoch 72/100\n",
            "45000/45000 [==============================] - 1s 32us/step - loss: 1.3042\n",
            "Epoch 73/100\n",
            "45000/45000 [==============================] - 1s 32us/step - loss: 1.3065\n",
            "Epoch 74/100\n",
            "45000/45000 [==============================] - 1s 32us/step - loss: 1.2987\n",
            "Epoch 75/100\n",
            "45000/45000 [==============================] - 1s 32us/step - loss: 1.2933\n",
            "Epoch 76/100\n",
            "45000/45000 [==============================] - 1s 32us/step - loss: 1.2904\n",
            "Epoch 77/100\n",
            "45000/45000 [==============================] - 1s 33us/step - loss: 1.2902\n",
            "Epoch 78/100\n",
            "45000/45000 [==============================] - 1s 32us/step - loss: 1.2894\n",
            "Epoch 79/100\n",
            "45000/45000 [==============================] - 1s 33us/step - loss: 1.2824\n",
            "Epoch 80/100\n",
            "45000/45000 [==============================] - 1s 32us/step - loss: 1.2796\n",
            "Epoch 81/100\n",
            "45000/45000 [==============================] - 1s 32us/step - loss: 1.2858\n",
            "Epoch 82/100\n",
            "45000/45000 [==============================] - 1s 32us/step - loss: 1.2880\n",
            "Epoch 83/100\n",
            "45000/45000 [==============================] - 1s 31us/step - loss: 1.2866\n",
            "Epoch 84/100\n",
            "45000/45000 [==============================] - 1s 31us/step - loss: 1.2862\n",
            "Epoch 85/100\n",
            "45000/45000 [==============================] - 1s 32us/step - loss: 1.2910\n",
            "Epoch 86/100\n",
            "45000/45000 [==============================] - 1s 33us/step - loss: 1.2763\n",
            "Epoch 87/100\n",
            "45000/45000 [==============================] - 1s 32us/step - loss: 1.2881\n",
            "Epoch 88/100\n",
            "45000/45000 [==============================] - 1s 31us/step - loss: 1.2772\n",
            "Epoch 89/100\n",
            "45000/45000 [==============================] - 1s 33us/step - loss: 1.2855\n",
            "Epoch 90/100\n",
            "45000/45000 [==============================] - 1s 32us/step - loss: 1.2769\n",
            "Epoch 91/100\n",
            "45000/45000 [==============================] - 1s 32us/step - loss: 1.2679\n",
            "Epoch 92/100\n",
            "45000/45000 [==============================] - 1s 32us/step - loss: 1.2744\n",
            "Epoch 93/100\n",
            "45000/45000 [==============================] - 1s 31us/step - loss: 1.2659\n",
            "Epoch 94/100\n",
            "45000/45000 [==============================] - 1s 31us/step - loss: 1.2768\n",
            "Epoch 95/100\n",
            "45000/45000 [==============================] - 1s 32us/step - loss: 1.2681\n",
            "Epoch 96/100\n",
            "45000/45000 [==============================] - 1s 33us/step - loss: 1.2704\n",
            "Epoch 97/100\n",
            "45000/45000 [==============================] - 1s 32us/step - loss: 1.2685\n",
            "Epoch 98/100\n",
            "45000/45000 [==============================] - 1s 32us/step - loss: 1.2813\n",
            "Epoch 99/100\n",
            "45000/45000 [==============================] - 1s 31us/step - loss: 1.2734\n",
            "Epoch 100/100\n",
            "45000/45000 [==============================] - 1s 31us/step - loss: 1.2714\n"
          ],
          "name": "stdout"
        },
        {
          "output_type": "execute_result",
          "data": {
            "text/plain": [
              "<keras.callbacks.History at 0x7f6d13b5c978>"
            ]
          },
          "metadata": {
            "tags": []
          },
          "execution_count": 30
        }
      ]
    },
    {
      "cell_type": "code",
      "metadata": {
        "id": "rYBLN__Qw6Zh",
        "colab_type": "code",
        "outputId": "32a99161-c0ef-4cc0-b640-90453e446984",
        "colab": {
          "base_uri": "https://localhost:8080/",
          "height": 282
        }
      },
      "source": [
        "logp_pred_train = logp_model.predict(x_train_latent)\n",
        "logp_pred_test = logp_model.predict(x_latent)\n",
        "plt.scatter(logp, logp_pred_test, label=\"Test\")\n",
        "plt.scatter(logp_train, logp_pred_train, label=\"Train\")\n",
        "plt.legend()\n"
      ],
      "execution_count": 0,
      "outputs": [
        {
          "output_type": "execute_result",
          "data": {
            "text/plain": [
              "<matplotlib.legend.Legend at 0x7f6d0f17ff28>"
            ]
          },
          "metadata": {
            "tags": []
          },
          "execution_count": 31
        },
        {
          "output_type": "display_data",
          "data": {
            "image/png": "[encoded data removed]",
            "text/plain": [
              "<Figure size 432x288 with 1 Axes>"
            ]
          },
          "metadata": {
            "tags": []
          }
        }
      ]
    },
    {
      "cell_type": "code",
      "metadata": {
        "id": "__AbFpelxARH",
        "colab_type": "code",
        "colab": {}
      },
      "source": [
        "def latent_to_smiles(latent):\n",
        "    #decode states and set Reset the LSTM cells with them\n",
        "    states = latent_to_states_model.predict(latent)\n",
        "    sample_model.layers[1].reset_states(states=[states[0],states[1]])\n",
        "    #Prepare the input char\n",
        "    startidx = char_to_int[\"!\"]\n",
        "    samplevec = np.zeros((1,1,22))\n",
        "    samplevec[0,0,startidx] = 1\n",
        "    smiles = \"\"\n",
        "    #Loop and predict next char\n",
        "    for i in range(28):\n",
        "        o = sample_model.predict(samplevec)\n",
        "        sampleidx = np.argmax(o)\n",
        "        samplechar = int_to_char[sampleidx]\n",
        "        if samplechar != \"E\":\n",
        "            smiles = smiles + int_to_char[sampleidx]\n",
        "            samplevec = np.zeros((1,1,22))\n",
        "            samplevec[0,0,sampleidx] = 1\n",
        "        else:\n",
        "            break\n",
        "    return smiles"
      ],
      "execution_count": 0,
      "outputs": []
    },
    {
      "cell_type": "code",
      "metadata": {
        "id": "pAFmgycuxC5R",
        "colab_type": "code",
        "outputId": "e089bc2a-a4ad-47ea-b248-0bd72df20971",
        "colab": {
          "base_uri": "https://localhost:8080/",
          "height": 371
        }
      },
      "source": [
        "smiles = latent_to_smiles(x_latent[0:1])\n",
        "print(smiles)\n",
        "print(smiles_test.iloc[0])"
      ],
      "execution_count": 0,
      "outputs": [
        {
          "output_type": "error",
          "ename": "ValueError",
          "evalue": "ignored",
          "traceback": [
            "\u001b[0;31m---------------------------------------------------------------------------\u001b[0m",
            "\u001b[0;31mValueError\u001b[0m                                Traceback (most recent call last)",
            "\u001b[0;32m<ipython-input-33-98a68a95fe80>\u001b[0m in \u001b[0;36m<module>\u001b[0;34m()\u001b[0m\n\u001b[0;32m----> 1\u001b[0;31m \u001b[0msmiles\u001b[0m \u001b[0;34m=\u001b[0m \u001b[0mlatent_to_smiles\u001b[0m\u001b[0;34m(\u001b[0m\u001b[0mx_latent\u001b[0m\u001b[0;34m[\u001b[0m\u001b[0;36m0\u001b[0m\u001b[0;34m:\u001b[0m\u001b[0;36m1\u001b[0m\u001b[0;34m]\u001b[0m\u001b[0;34m)\u001b[0m\u001b[0;34m\u001b[0m\u001b[0;34m\u001b[0m\u001b[0m\n\u001b[0m\u001b[1;32m      2\u001b[0m \u001b[0mprint\u001b[0m\u001b[0;34m(\u001b[0m\u001b[0msmiles\u001b[0m\u001b[0;34m)\u001b[0m\u001b[0;34m\u001b[0m\u001b[0;34m\u001b[0m\u001b[0m\n\u001b[1;32m      3\u001b[0m \u001b[0mprint\u001b[0m\u001b[0;34m(\u001b[0m\u001b[0msmiles_test\u001b[0m\u001b[0;34m.\u001b[0m\u001b[0miloc\u001b[0m\u001b[0;34m[\u001b[0m\u001b[0;36m0\u001b[0m\u001b[0;34m]\u001b[0m\u001b[0;34m)\u001b[0m\u001b[0;34m\u001b[0m\u001b[0;34m\u001b[0m\u001b[0m\n",
            "\u001b[0;32m<ipython-input-32-f77e36074dae>\u001b[0m in \u001b[0;36mlatent_to_smiles\u001b[0;34m(latent)\u001b[0m\n\u001b[1;32m     10\u001b[0m     \u001b[0;31m#Loop and predict next char\u001b[0m\u001b[0;34m\u001b[0m\u001b[0;34m\u001b[0m\u001b[0;34m\u001b[0m\u001b[0m\n\u001b[1;32m     11\u001b[0m     \u001b[0;32mfor\u001b[0m \u001b[0mi\u001b[0m \u001b[0;32min\u001b[0m \u001b[0mrange\u001b[0m\u001b[0;34m(\u001b[0m\u001b[0;36m28\u001b[0m\u001b[0;34m)\u001b[0m\u001b[0;34m:\u001b[0m\u001b[0;34m\u001b[0m\u001b[0;34m\u001b[0m\u001b[0m\n\u001b[0;32m---> 12\u001b[0;31m         \u001b[0mo\u001b[0m \u001b[0;34m=\u001b[0m \u001b[0msample_model\u001b[0m\u001b[0;34m.\u001b[0m\u001b[0mpredict\u001b[0m\u001b[0;34m(\u001b[0m\u001b[0msamplevec\u001b[0m\u001b[0;34m)\u001b[0m\u001b[0;34m\u001b[0m\u001b[0;34m\u001b[0m\u001b[0m\n\u001b[0m\u001b[1;32m     13\u001b[0m         \u001b[0msampleidx\u001b[0m \u001b[0;34m=\u001b[0m \u001b[0mnp\u001b[0m\u001b[0;34m.\u001b[0m\u001b[0margmax\u001b[0m\u001b[0;34m(\u001b[0m\u001b[0mo\u001b[0m\u001b[0;34m)\u001b[0m\u001b[0;34m\u001b[0m\u001b[0;34m\u001b[0m\u001b[0m\n\u001b[1;32m     14\u001b[0m         \u001b[0msamplechar\u001b[0m \u001b[0;34m=\u001b[0m \u001b[0mint_to_char\u001b[0m\u001b[0;34m[\u001b[0m\u001b[0msampleidx\u001b[0m\u001b[0;34m]\u001b[0m\u001b[0;34m\u001b[0m\u001b[0;34m\u001b[0m\u001b[0m\n",
            "\u001b[0;32m/usr/local/lib/python3.6/dist-packages/keras/engine/training.py\u001b[0m in \u001b[0;36mpredict\u001b[0;34m(self, x, batch_size, verbose, steps, callbacks, max_queue_size, workers, use_multiprocessing)\u001b[0m\n\u001b[1;32m   1378\u001b[0m \u001b[0;34m\u001b[0m\u001b[0m\n\u001b[1;32m   1379\u001b[0m         \u001b[0;31m# Case 2: Symbolic tensors or Numpy array-like.\u001b[0m\u001b[0;34m\u001b[0m\u001b[0;34m\u001b[0m\u001b[0;34m\u001b[0m\u001b[0m\n\u001b[0;32m-> 1380\u001b[0;31m         \u001b[0mx\u001b[0m\u001b[0;34m,\u001b[0m \u001b[0m_\u001b[0m\u001b[0;34m,\u001b[0m \u001b[0m_\u001b[0m \u001b[0;34m=\u001b[0m \u001b[0mself\u001b[0m\u001b[0;34m.\u001b[0m\u001b[0m_standardize_user_data\u001b[0m\u001b[0;34m(\u001b[0m\u001b[0mx\u001b[0m\u001b[0;34m)\u001b[0m\u001b[0;34m\u001b[0m\u001b[0;34m\u001b[0m\u001b[0m\n\u001b[0m\u001b[1;32m   1381\u001b[0m         \u001b[0;32mif\u001b[0m \u001b[0mself\u001b[0m\u001b[0;34m.\u001b[0m\u001b[0mstateful\u001b[0m\u001b[0;34m:\u001b[0m\u001b[0;34m\u001b[0m\u001b[0;34m\u001b[0m\u001b[0m\n\u001b[1;32m   1382\u001b[0m             \u001b[0;32mif\u001b[0m \u001b[0mx\u001b[0m\u001b[0;34m[\u001b[0m\u001b[0;36m0\u001b[0m\u001b[0;34m]\u001b[0m\u001b[0;34m.\u001b[0m\u001b[0mshape\u001b[0m\u001b[0;34m[\u001b[0m\u001b[0;36m0\u001b[0m\u001b[0;34m]\u001b[0m \u001b[0;34m>\u001b[0m \u001b[0mbatch_size\u001b[0m \u001b[0;32mand\u001b[0m \u001b[0mx\u001b[0m\u001b[0;34m[\u001b[0m\u001b[0;36m0\u001b[0m\u001b[0;34m]\u001b[0m\u001b[0;34m.\u001b[0m\u001b[0mshape\u001b[0m\u001b[0;34m[\u001b[0m\u001b[0;36m0\u001b[0m\u001b[0;34m]\u001b[0m \u001b[0;34m%\u001b[0m \u001b[0mbatch_size\u001b[0m \u001b[0;34m!=\u001b[0m \u001b[0;36m0\u001b[0m\u001b[0;34m:\u001b[0m\u001b[0;34m\u001b[0m\u001b[0;34m\u001b[0m\u001b[0m\n",
            "\u001b[0;32m/usr/local/lib/python3.6/dist-packages/keras/engine/training.py\u001b[0m in \u001b[0;36m_standardize_user_data\u001b[0;34m(self, x, y, sample_weight, class_weight, check_array_lengths, batch_size)\u001b[0m\n\u001b[1;32m    755\u001b[0m             \u001b[0mfeed_input_shapes\u001b[0m\u001b[0;34m,\u001b[0m\u001b[0;34m\u001b[0m\u001b[0;34m\u001b[0m\u001b[0m\n\u001b[1;32m    756\u001b[0m             \u001b[0mcheck_batch_axis\u001b[0m\u001b[0;34m=\u001b[0m\u001b[0;32mFalse\u001b[0m\u001b[0;34m,\u001b[0m  \u001b[0;31m# Don't enforce the batch size.\u001b[0m\u001b[0;34m\u001b[0m\u001b[0;34m\u001b[0m\u001b[0m\n\u001b[0;32m--> 757\u001b[0;31m             exception_prefix='input')\n\u001b[0m\u001b[1;32m    758\u001b[0m \u001b[0;34m\u001b[0m\u001b[0m\n\u001b[1;32m    759\u001b[0m         \u001b[0;32mif\u001b[0m \u001b[0my\u001b[0m \u001b[0;32mis\u001b[0m \u001b[0;32mnot\u001b[0m \u001b[0;32mNone\u001b[0m\u001b[0;34m:\u001b[0m\u001b[0;34m\u001b[0m\u001b[0;34m\u001b[0m\u001b[0m\n",
            "\u001b[0;32m/usr/local/lib/python3.6/dist-packages/keras/engine/training_utils.py\u001b[0m in \u001b[0;36mstandardize_input_data\u001b[0;34m(data, names, shapes, check_batch_axis, exception_prefix)\u001b[0m\n\u001b[1;32m    139\u001b[0m                             \u001b[0;34m': expected '\u001b[0m \u001b[0;34m+\u001b[0m \u001b[0mnames\u001b[0m\u001b[0;34m[\u001b[0m\u001b[0mi\u001b[0m\u001b[0;34m]\u001b[0m \u001b[0;34m+\u001b[0m \u001b[0;34m' to have shape '\u001b[0m \u001b[0;34m+\u001b[0m\u001b[0;34m\u001b[0m\u001b[0;34m\u001b[0m\u001b[0m\n\u001b[1;32m    140\u001b[0m                             \u001b[0mstr\u001b[0m\u001b[0;34m(\u001b[0m\u001b[0mshape\u001b[0m\u001b[0;34m)\u001b[0m \u001b[0;34m+\u001b[0m \u001b[0;34m' but got array with shape '\u001b[0m \u001b[0;34m+\u001b[0m\u001b[0;34m\u001b[0m\u001b[0;34m\u001b[0m\u001b[0m\n\u001b[0;32m--> 141\u001b[0;31m                             str(data_shape))\n\u001b[0m\u001b[1;32m    142\u001b[0m     \u001b[0;32mreturn\u001b[0m \u001b[0mdata\u001b[0m\u001b[0;34m\u001b[0m\u001b[0;34m\u001b[0m\u001b[0m\n\u001b[1;32m    143\u001b[0m \u001b[0;34m\u001b[0m\u001b[0m\n",
            "\u001b[0;31mValueError\u001b[0m: Error when checking input: expected input_4 to have shape (1, 24) but got array with shape (1, 22)"
          ]
        }
      ]
    },
    {
      "cell_type": "code",
      "metadata": {
        "id": "OznVu1NxxE2T",
        "colab_type": "code",
        "colab": {}
      },
      "source": [
        "wrong = 0\n",
        "for i in range(1000):\n",
        "    smiles = latent_to_smiles(x_latent[i:i+1])\n",
        "    mol = Chem.MolFromSmiles(smiles)\n",
        "    if mol:\n",
        "        pass\n",
        "    else:\n",
        "        print(smiles)\n",
        "        wrong = wrong + 1\n",
        "print(\"%0.1F percent wrongly formatted smiles\"%(wrong/float(1000)*100))\n"
      ],
      "execution_count": 0,
      "outputs": []
    },
    {
      "cell_type": "code",
      "metadata": {
        "id": "EJKAy7TkxVhN",
        "colab_type": "code",
        "colab": {}
      },
      "source": [
        "#Interpolation test in latent_space\n",
        "i = 0\n",
        "j= 2\n",
        "latent1 = x_latent[j:j+1]\n",
        "latent0 = x_latent[i:i+1]\n",
        "mols1 = []\n",
        "ratios = np.linspace(0,1,25)\n",
        "for r in ratios:\n",
        "    #print r\n",
        "    rlatent = (1.0-r)*latent0 + r*latent1\n",
        "    smiles  = latent_to_smiles(rlatent)\n",
        "    mol = Chem.MolFromSmiles(smiles)\n",
        "    if mol:\n",
        "        mols1.append(mol)\n",
        "    else:\n",
        "        print(smiles)\n",
        "Draw.MolsToGridImage(mols1, molsPerRow=5)"
      ],
      "execution_count": 0,
      "outputs": []
    },
    {
      "cell_type": "code",
      "metadata": {
        "id": "3lSxCnD-xhiU",
        "colab_type": "code",
        "colab": {}
      },
      "source": [
        "#Sample around the latent wector\n",
        "latent = x_latent[0:1]\n",
        "scale = 0.40\n",
        "mols = []\n",
        "for i in range(20):\n",
        "    latent_r = latent + scale*(np.random.randn(latent.shape[1])) #TODO, try with\n",
        "    smiles = latent_to_smiles(latent_r)\n",
        "    mol = Chem.MolFromSmiles(smiles)\n",
        "    if mol:\n",
        "        mols.append(mol)\n",
        "    else:\n",
        "        print(smiles)\n",
        "Draw.MolsToGridImage(mols, molsPerRow=5)"
      ],
      "execution_count": 0,
      "outputs": []
    }
  ]
}
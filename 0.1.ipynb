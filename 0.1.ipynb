{
 "cells": [
  {
   "cell_type": "markdown",
   "metadata": {},
   "source": [
    "# 0.1을 이진수로"
   ]
  },
  {
   "cell_type": "code",
   "execution_count": 46,
   "metadata": {},
   "outputs": [],
   "source": [
    "def conv(number):\n",
    "    n=0\n",
    "    result='0.'\n",
    "    while n<10:\n",
    "        n+=1\n",
    "        t=str(int(number*2))\n",
    "        number=number*2-int(number*2)\n",
    "        result=result+t\n",
    "        if number==0:\n",
    "            print(result)\n",
    "            break\n",
    "        elif n==10:\n",
    "            print(result)"
   ]
  },
  {
   "cell_type": "code",
   "execution_count": 47,
   "metadata": {
    "scrolled": true
   },
   "outputs": [
    {
     "name": "stdout",
     "output_type": "stream",
     "text": [
      "0.0001100110\n"
     ]
    }
   ],
   "source": [
    "conv(0.1)"
   ]
  },
  {
   "cell_type": "markdown",
   "metadata": {},
   "source": [
    "0.1을 이진수로 나타내면 무한소수이기에 10자리까지만 구했습니다"
   ]
  }
 ],
 "metadata": {
  "kernelspec": {
   "display_name": "Python 3",
   "language": "python",
   "name": "python3"
  },
  "language_info": {
   "codemirror_mode": {
    "name": "ipython",
    "version": 3
   },
   "file_extension": ".py",
   "mimetype": "text/x-python",
   "name": "python",
   "nbconvert_exporter": "python",
   "pygments_lexer": "ipython3",
   "version": "3.7.3"
  }
 },
 "nbformat": 4,
 "nbformat_minor": 2
}
